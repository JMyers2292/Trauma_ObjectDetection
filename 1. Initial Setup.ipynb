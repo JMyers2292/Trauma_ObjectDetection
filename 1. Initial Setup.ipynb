{
 "cells": [
  {
   "cell_type": "markdown",
   "metadata": {},
   "source": [
    "## View List of Virtual Environments in Jupyter Notebook"
   ]
  },
  {
   "cell_type": "markdown",
   "metadata": {},
   "source": [
    "`!jupyter kernelspec list`"
   ]
  },
  {
   "cell_type": "markdown",
   "metadata": {},
   "source": [
    "## Removing Virtual Environments From Jupyter Notebook"
   ]
  },
  {
   "cell_type": "markdown",
   "metadata": {},
   "source": [
    "`!jupyter kernelspec uninstall <environment_name>`"
   ]
  },
  {
   "cell_type": "markdown",
   "metadata": {},
   "source": [
    "## Creating a new Virtual Environment & Add to Jupyter"
   ]
  },
  {
   "cell_type": "markdown",
   "metadata": {},
   "source": [
    "Make sure to cd into root directory before creating. \n",
    "Once in root directory use:`python -m venv <environment_name>`\n",
    "\n",
    "Then activate it using:\n",
    "\n",
    "`\n",
    ".\\<environment_name>\\Scripts\\activate\n",
    "`\n",
    "\n",
    "\n",
    "Install dependancies: \n",
    "\n",
    "`\n",
    "pip install ipykernel\n",
    "`\n",
    "\n",
    "\n",
    "`\n",
    "python -m pip install --upgrade pip\n",
    "`\n",
    "\n",
    "\n",
    "\n",
    "To Add environment:\n",
    "\n",
    "`python -m ipykernel install --user --name=<environment_name>`\n"
   ]
  },
  {
   "cell_type": "code",
   "execution_count": null,
   "metadata": {},
   "outputs": [],
   "source": [
    "!pip list"
   ]
  },
  {
   "cell_type": "code",
   "execution_count": 1,
   "metadata": {},
   "outputs": [
    {
     "name": "stdout",
     "output_type": "stream",
     "text": [
      "pip 21.1.2 from c:\\programdata\\anaconda3\\lib\\site-packages\\pip (python 3.7)\n",
      "\n"
     ]
    }
   ],
   "source": [
    "!pip --version"
   ]
  },
  {
   "cell_type": "markdown",
   "metadata": {},
   "source": [
    "# Checking Versions Of CUDA"
   ]
  },
  {
   "cell_type": "markdown",
   "metadata": {},
   "source": [
    "`nvcc --version`"
   ]
  }
 ],
 "metadata": {
  "kernelspec": {
   "display_name": "BGtfod",
   "language": "python",
   "name": "bgtfod"
  },
  "language_info": {
   "codemirror_mode": {
    "name": "ipython",
    "version": 3
   },
   "file_extension": ".py",
   "mimetype": "text/x-python",
   "name": "python",
   "nbconvert_exporter": "python",
   "pygments_lexer": "ipython3",
   "version": "3.7.3"
  }
 },
 "nbformat": 4,
 "nbformat_minor": 2
}
