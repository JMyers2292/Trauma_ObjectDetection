{
 "cells": [
  {
   "cell_type": "markdown",
   "metadata": {},
   "source": [
    "# 1. Import Dependencies"
   ]
  },
  {
   "cell_type": "code",
   "execution_count": 1,
   "metadata": {},
   "outputs": [
    {
     "name": "stdout",
     "output_type": "stream",
     "text": [
      "Requirement already satisfied: opencv-python in d:\\jeremy\\desktop\\tensorflow\\trauma_objectdetection\\tfod\\lib\\site-packages (4.5.5.62)\n",
      "Requirement already satisfied: numpy>=1.14.5 in d:\\jeremy\\desktop\\tensorflow\\trauma_objectdetection\\tfod\\lib\\site-packages (from opencv-python) (1.21.5)\n"
     ]
    },
    {
     "name": "stderr",
     "output_type": "stream",
     "text": [
      "WARNING: You are using pip version 21.3.1; however, version 22.0.3 is available.\n",
      "You should consider upgrading via the 'd:\\jeremy\\desktop\\tensorflow\\trauma_objectdetection\\tfod\\scripts\\python.exe -m pip install --upgrade pip' command.\n"
     ]
    }
   ],
   "source": [
    "!pip install opencv-python"
   ]
  },
  {
   "cell_type": "code",
   "execution_count": 2,
   "metadata": {},
   "outputs": [],
   "source": [
    "# Import opencv\n",
    "import cv2\n",
    "\n",
    "# Import uuid\n",
    "import uuid\n",
    "\n",
    "# Import Operating System\n",
    "import os\n",
    "\n",
    "# Import time\n",
    "import time\n",
    "\n",
    "#Import Numpy\n",
    "import numpy as np\n",
    "\n",
    "import shutil\n",
    "\n",
    "import random as rd"
   ]
  },
  {
   "cell_type": "markdown",
   "metadata": {},
   "source": [
    "# 2. Define Images to Collect"
   ]
  },
  {
   "cell_type": "code",
   "execution_count": 3,
   "metadata": {},
   "outputs": [],
   "source": [
    "#Specify What You Want Labelled As Well As Empty Train & Test Folders For Later\n",
    "labels = ['CircularWound', 'AbrasionWound']\n",
    "#number_imgs = 5"
   ]
  },
  {
   "cell_type": "markdown",
   "metadata": {},
   "source": [
    "# 3. Setup Folders "
   ]
  },
  {
   "cell_type": "code",
   "execution_count": 4,
   "metadata": {},
   "outputs": [],
   "source": [
    "#PATHS\n",
    "FOLDER_PATH = os.getcwd()\n",
    "TF_PATH = os.path.join(FOLDER_PATH,'Tensorflow','workspace','images', 'collectedimages')\n",
    "IMG_PATH = os.path.join(FOLDER_PATH, 'Tensorflow','workspace','images')\n",
    "\n",
    "DOWNLOAD_IMG_PATH = os.path.join(FOLDER_PATH, 'Images')\n",
    "\n",
    "folders = [\"Train\", \"Test\"]"
   ]
  },
  {
   "cell_type": "code",
   "execution_count": 5,
   "metadata": {},
   "outputs": [
    {
     "name": "stdout",
     "output_type": "stream",
     "text": [
      "D:\\Jeremy\\Desktop\\Tensorflow\\Trauma_ObjectDetection\n"
     ]
    }
   ],
   "source": [
    "print(FOLDER_PATH)"
   ]
  },
  {
   "cell_type": "code",
   "execution_count": 6,
   "metadata": {},
   "outputs": [
    {
     "name": "stdout",
     "output_type": "stream",
     "text": [
      "Folder Already Created For Train....\n",
      "Folder Already Created For Test....\n"
     ]
    }
   ],
   "source": [
    "#Create Folders for Each Label\n",
    "if not os.path.exists(TF_PATH):\n",
    "    if os.name == 'posix':\n",
    "        !mkdir -p {TF_PATH}\n",
    "    if os.name == 'nt':\n",
    "        !mkdir {TF_PATH}\n",
    "\n",
    "#Create Train & Test Folders\n",
    "os.chdir(IMG_PATH)\n",
    "for folder in folders:\n",
    "    path = os.path.join(IMG_PATH, folder)\n",
    "    if not os.path.exists(path):\n",
    "        !mkdir {path}\n",
    "        print(\"Folder Created For {}....\".format(folder))\n",
    "    else:\n",
    "        print(\"Folder Already Created For {}....\".format(folder))"
   ]
  },
  {
   "cell_type": "markdown",
   "metadata": {},
   "source": [
    "# 4. Copy Images From Other Folder"
   ]
  },
  {
   "cell_type": "code",
   "execution_count": 7,
   "metadata": {},
   "outputs": [
    {
     "name": "stdout",
     "output_type": "stream",
     "text": [
      "CircularWound Files Copied To Destination Folder....\n",
      "AbrasionWound Files Copied To Destination Folder....\n"
     ]
    }
   ],
   "source": [
    "for label in labels:\n",
    "    src = os.path.join(DOWNLOAD_IMG_PATH, label)\n",
    "    dest = TF_PATH\n",
    "    os.chdir(src)\n",
    "    files = os.listdir(src)\n",
    "    for file in files:\n",
    "        shutil.copy(file, dest)\n",
    "    print(f\"{label} Files Copied To Destination Folder....\")"
   ]
  },
  {
   "cell_type": "markdown",
   "metadata": {},
   "source": [
    "# 5. Renaming Images (Redundant Post ImgAugment.py Script)"
   ]
  },
  {
   "cell_type": "code",
   "execution_count": 9,
   "metadata": {},
   "outputs": [],
   "source": [
    "# #Rename Images to <label>.num.jpg\n",
    "# for label in labels:\n",
    "#     img_folder = os.path.join(DOWNLOAD_IMG_PATH, label) \n",
    "#     num_imgs = len(os.listdir(img_folder))\n",
    "#     #print(num_imgs)\n",
    "#     DST_label_PATH = TF_PATH\n",
    "#     os.chdir(DST_label_PATH)\n",
    "#     DIR = os.listdir(DST_label_PATH)\n",
    "#     for num, file_name in enumerate(DIR):\n",
    "#         if num != num_imgs:\n",
    "#             src = DST_label_PATH + '\\\\' + file_name\n",
    "#             dst = DST_label_PATH + '\\\\' + label + \"_\" + str(num+1) + \".jpg\"\n",
    "#             os.rename(src, dst)\n",
    "#         else:\n",
    "#             break\n",
    "# print(\"Images Successfully Renamed...\")       "
   ]
  },
  {
   "cell_type": "markdown",
   "metadata": {},
   "source": [
    "# 5. Import Image Labelling "
   ]
  },
  {
   "cell_type": "code",
   "execution_count": 9,
   "metadata": {
    "scrolled": true
   },
   "outputs": [
    {
     "name": "stdout",
     "output_type": "stream",
     "text": [
      "Requirement already satisfied: pyqt5 in d:\\jeremy\\desktop\\tensorflow\\trauma_objectdetection\\tfod\\lib\\site-packages (5.15.6)"
     ]
    },
    {
     "name": "stderr",
     "output_type": "stream",
     "text": [
      "WARNING: You are using pip version 21.3.1; however, version 22.0.3 is available.\n",
      "You should consider upgrading via the 'd:\\jeremy\\desktop\\tensorflow\\trauma_objectdetection\\tfod\\scripts\\python.exe -m pip install --upgrade pip' command.\n"
     ]
    },
    {
     "name": "stdout",
     "output_type": "stream",
     "text": [
      "\n",
      "Requirement already satisfied: lxml in d:\\jeremy\\desktop\\tensorflow\\trauma_objectdetection\\tfod\\lib\\site-packages (4.7.1)\n",
      "Requirement already satisfied: PyQt5-sip<13,>=12.8 in d:\\jeremy\\desktop\\tensorflow\\trauma_objectdetection\\tfod\\lib\\site-packages (from pyqt5) (12.9.0)\n",
      "Requirement already satisfied: PyQt5-Qt5>=5.15.2 in d:\\jeremy\\desktop\\tensorflow\\trauma_objectdetection\\tfod\\lib\\site-packages (from pyqt5) (5.15.2)\n"
     ]
    }
   ],
   "source": [
    "!pip install --upgrade pyqt5 lxml"
   ]
  },
  {
   "cell_type": "code",
   "execution_count": 10,
   "metadata": {},
   "outputs": [],
   "source": [
    "LABEL_IMG_PATH = os.path.join(FOLDER_PATH,'Tensorflow','labelImg')"
   ]
  },
  {
   "cell_type": "code",
   "execution_count": 12,
   "metadata": {},
   "outputs": [
    {
     "name": "stdout",
     "output_type": "stream",
     "text": [
      "Folder Already Created and Repo Copied....\n"
     ]
    }
   ],
   "source": [
    "#Create a Folder For ImgLabel app \n",
    "if not os.path.exists(LABEL_IMG_PATH):\n",
    "    !mkdir {LABEL_IMG_PATH}\n",
    "    !git clone https://github.com/tzutalin/labelImg {LABEL_IMG_PATH}\n",
    "    print(\"Folder Created and Repo Copied...\")\n",
    "else:\n",
    "    print(\"Folder Already Created and Repo Copied....\")"
   ]
  },
  {
   "cell_type": "code",
   "execution_count": 13,
   "metadata": {},
   "outputs": [],
   "source": [
    "if os.name == 'posix':\n",
    "    !cd {LABEL_IMG_PATH} && make qt5py3\n",
    "if os.name =='nt':\n",
    "    !cd {LABEL_IMG_PATH} && pyrcc5 -o libs/resources.py resources.qrc"
   ]
  },
  {
   "cell_type": "markdown",
   "metadata": {},
   "source": [
    "# 7. Open Label Image Probram & Label Images"
   ]
  },
  {
   "cell_type": "code",
   "execution_count": 14,
   "metadata": {},
   "outputs": [],
   "source": [
    "#Open Label Image Program\n",
    "!cd {LABEL_IMG_PATH} && python labelImg.py"
   ]
  },
  {
   "cell_type": "markdown",
   "metadata": {},
   "source": [
    "# 8. Splitting Images Into Training & Testing"
   ]
  },
  {
   "cell_type": "code",
   "execution_count": 14,
   "metadata": {},
   "outputs": [],
   "source": [
    "#Make a function to move files to Train folder\n",
    "\n",
    "def move_file_Train(src_path):\n",
    "    dst = os.path.join(IMG_PATH, 'Train')\n",
    "    src = src_path\n",
    "    shutil.move(src, dst)"
   ]
  },
  {
   "cell_type": "code",
   "execution_count": 15,
   "metadata": {},
   "outputs": [],
   "source": [
    "#Make a function to move files to Test folder\n",
    "\n",
    "def move_file_Test(src_path):\n",
    "    dst = os.path.join(IMG_PATH, 'Test')\n",
    "    src = src_path\n",
    "    shutil.move(src, dst)"
   ]
  },
  {
   "cell_type": "code",
   "execution_count": 16,
   "metadata": {},
   "outputs": [],
   "source": [
    "def rand_num_gen(length_dir):\n",
    "    randomNum = rd.randrange(1, length_dir)\n",
    "    return randomNum"
   ]
  },
  {
   "cell_type": "code",
   "execution_count": 39,
   "metadata": {
    "scrolled": true
   },
   "outputs": [
    {
     "name": "stdout",
     "output_type": "stream",
     "text": [
      "Number of Images For Training Taken From BulletWound: 34\n",
      "File BulletWound_40.jpg Moved To Train Folder\n"
     ]
    },
    {
     "ename": "Error",
     "evalue": "Destination path 'D:\\Jeremy\\Desktop\\Tensorflow\\Trauma_ObjectDetection\\Tensorflow\\workspace\\images\\Train\\BulletWound_40.jpg' already exists",
     "output_type": "error",
     "traceback": [
      "\u001b[1;31m---------------------------------------------------------------------------\u001b[0m",
      "\u001b[1;31mError\u001b[0m                                     Traceback (most recent call last)",
      "\u001b[1;32mC:\\Users\\Jeremy\\AppData\\Local\\Temp/ipykernel_22716/2894334241.py\u001b[0m in \u001b[0;36m<module>\u001b[1;34m\u001b[0m\n\u001b[0;32m     24\u001b[0m         \u001b[0mprint\u001b[0m\u001b[1;33m(\u001b[0m\u001b[1;34m\"File {}_{}.jpg Moved To Train Folder\"\u001b[0m\u001b[1;33m.\u001b[0m\u001b[0mformat\u001b[0m\u001b[1;33m(\u001b[0m\u001b[0mlabel\u001b[0m\u001b[1;33m,\u001b[0m \u001b[0mrandList\u001b[0m\u001b[1;33m[\u001b[0m\u001b[0mx\u001b[0m\u001b[1;33m]\u001b[0m\u001b[1;33m)\u001b[0m\u001b[1;33m)\u001b[0m\u001b[1;33m\u001b[0m\u001b[1;33m\u001b[0m\u001b[0m\n\u001b[0;32m     25\u001b[0m         \u001b[1;31m#print(\"File {}_{}.xml Moved To Train Folder\".format(label, randList[x]))\u001b[0m\u001b[1;33m\u001b[0m\u001b[1;33m\u001b[0m\u001b[1;33m\u001b[0m\u001b[0m\n\u001b[1;32m---> 26\u001b[1;33m         \u001b[0mmove_file_Train\u001b[0m\u001b[1;33m(\u001b[0m\u001b[0mIMG_SELECT\u001b[0m\u001b[1;33m)\u001b[0m\u001b[1;33m\u001b[0m\u001b[1;33m\u001b[0m\u001b[0m\n\u001b[0m\u001b[0;32m     27\u001b[0m \u001b[1;33m\u001b[0m\u001b[0m\n\u001b[0;32m     28\u001b[0m \u001b[1;31m#         move_file_Train(LABELIMG_SLECT)\u001b[0m\u001b[1;33m\u001b[0m\u001b[1;33m\u001b[0m\u001b[1;33m\u001b[0m\u001b[0m\n",
      "\u001b[1;32mC:\\Users\\Jeremy\\AppData\\Local\\Temp/ipykernel_22716/1004672817.py\u001b[0m in \u001b[0;36mmove_file_Train\u001b[1;34m(src_path)\u001b[0m\n\u001b[0;32m      4\u001b[0m     \u001b[0mdst\u001b[0m \u001b[1;33m=\u001b[0m \u001b[0mos\u001b[0m\u001b[1;33m.\u001b[0m\u001b[0mpath\u001b[0m\u001b[1;33m.\u001b[0m\u001b[0mjoin\u001b[0m\u001b[1;33m(\u001b[0m\u001b[0mIMG_PATH\u001b[0m\u001b[1;33m,\u001b[0m \u001b[1;34m'Train'\u001b[0m\u001b[1;33m)\u001b[0m\u001b[1;33m\u001b[0m\u001b[1;33m\u001b[0m\u001b[0m\n\u001b[0;32m      5\u001b[0m     \u001b[0msrc\u001b[0m \u001b[1;33m=\u001b[0m \u001b[0msrc_path\u001b[0m\u001b[1;33m\u001b[0m\u001b[1;33m\u001b[0m\u001b[0m\n\u001b[1;32m----> 6\u001b[1;33m     \u001b[0mshutil\u001b[0m\u001b[1;33m.\u001b[0m\u001b[0mmove\u001b[0m\u001b[1;33m(\u001b[0m\u001b[0msrc\u001b[0m\u001b[1;33m,\u001b[0m \u001b[0mdst\u001b[0m\u001b[1;33m)\u001b[0m\u001b[1;33m\u001b[0m\u001b[1;33m\u001b[0m\u001b[0m\n\u001b[0m",
      "\u001b[1;32mC:\\ProgramData\\Anaconda3\\lib\\shutil.py\u001b[0m in \u001b[0;36mmove\u001b[1;34m(src, dst, copy_function)\u001b[0m\n\u001b[0;32m    559\u001b[0m         \u001b[0mreal_dst\u001b[0m \u001b[1;33m=\u001b[0m \u001b[0mos\u001b[0m\u001b[1;33m.\u001b[0m\u001b[0mpath\u001b[0m\u001b[1;33m.\u001b[0m\u001b[0mjoin\u001b[0m\u001b[1;33m(\u001b[0m\u001b[0mdst\u001b[0m\u001b[1;33m,\u001b[0m \u001b[0m_basename\u001b[0m\u001b[1;33m(\u001b[0m\u001b[0msrc\u001b[0m\u001b[1;33m)\u001b[0m\u001b[1;33m)\u001b[0m\u001b[1;33m\u001b[0m\u001b[1;33m\u001b[0m\u001b[0m\n\u001b[0;32m    560\u001b[0m         \u001b[1;32mif\u001b[0m \u001b[0mos\u001b[0m\u001b[1;33m.\u001b[0m\u001b[0mpath\u001b[0m\u001b[1;33m.\u001b[0m\u001b[0mexists\u001b[0m\u001b[1;33m(\u001b[0m\u001b[0mreal_dst\u001b[0m\u001b[1;33m)\u001b[0m\u001b[1;33m:\u001b[0m\u001b[1;33m\u001b[0m\u001b[1;33m\u001b[0m\u001b[0m\n\u001b[1;32m--> 561\u001b[1;33m             \u001b[1;32mraise\u001b[0m \u001b[0mError\u001b[0m\u001b[1;33m(\u001b[0m\u001b[1;34m\"Destination path '%s' already exists\"\u001b[0m \u001b[1;33m%\u001b[0m \u001b[0mreal_dst\u001b[0m\u001b[1;33m)\u001b[0m\u001b[1;33m\u001b[0m\u001b[1;33m\u001b[0m\u001b[0m\n\u001b[0m\u001b[0;32m    562\u001b[0m     \u001b[1;32mtry\u001b[0m\u001b[1;33m:\u001b[0m\u001b[1;33m\u001b[0m\u001b[1;33m\u001b[0m\u001b[0m\n\u001b[0;32m    563\u001b[0m         \u001b[0mos\u001b[0m\u001b[1;33m.\u001b[0m\u001b[0mrename\u001b[0m\u001b[1;33m(\u001b[0m\u001b[0msrc\u001b[0m\u001b[1;33m,\u001b[0m \u001b[0mreal_dst\u001b[0m\u001b[1;33m)\u001b[0m\u001b[1;33m\u001b[0m\u001b[1;33m\u001b[0m\u001b[0m\n",
      "\u001b[1;31mError\u001b[0m: Destination path 'D:\\Jeremy\\Desktop\\Tensorflow\\Trauma_ObjectDetection\\Tensorflow\\workspace\\images\\Train\\BulletWound_40.jpg' already exists"
     ]
    }
   ],
   "source": [
    "#Training Ratio Split Into Train Folder\n",
    "TRAIN_RATIO = 0.7\n",
    "randList = []\n",
    "for label in labels:\n",
    "    randList.clear()\n",
    "    DST_label_PATH = TF_PATH\n",
    "    os.chdir(DST_label_PATH)\n",
    "    DIR = os.listdir(DST_label_PATH)\n",
    "    LEN_DIR = int(len(DIR)/2)\n",
    "    NUM_IMG_SPLIT = LEN_DIR*TRAIN_RATIO\n",
    "    print(\"Number of Images For Training Taken From {}: {}\".format(label, int(NUM_IMG_SPLIT)))\n",
    "    for x in range(int(NUM_IMG_SPLIT)):\n",
    "        randNum = rand_num_gen(int(LEN_DIR))\n",
    "        if len(randList) != int(NUM_IMG_SPLIT) and randNum not in randList:\n",
    "            randList.append(randNum)\n",
    "        else:\n",
    "            while (randNum in randList):\n",
    "                randNum = rand_num_gen(int(LEN_DIR))\n",
    "            if len(randList) != int(NUM_IMG_SPLIT) and randNum not in randList:\n",
    "                randList.append(randNum)\n",
    "            \n",
    "        IMG_SELECT = os.path.join(DST_label_PATH, label + \"_\" + str(randList[x]) + \".jpg\")\n",
    "        LABELIMG_SLECT = os.path.join(DST_label_PATH, label + \"_\" + str(randList[x]) + \".xml\")\n",
    "        #print(\"File {}_{}.jpg Moved To Train Folder\".format(label, randList[x]))\n",
    "        #print(\"File {}_{}.xml Moved To Train Folder\".format(label, randList[x]))\n",
    "        move_file_Train(IMG_SELECT)\n",
    "        move_file_Train(LABELIMG_SLECT)\n",
    "        \n",
    "print(\"Files Successfully Moved To Train Folder....\")"
   ]
  },
  {
   "cell_type": "code",
   "execution_count": 43,
   "metadata": {},
   "outputs": [
    {
     "name": "stdout",
     "output_type": "stream",
     "text": [
      "Files Successfully Moved To Test Folder....\n"
     ]
    }
   ],
   "source": [
    "#Remainder Images Moved Into Test Folder\n",
    "\n",
    "for label in labels:\n",
    "    DST_label_PATH = TF_PATH\n",
    "    os.chdir(DST_label_PATH)\n",
    "    DIR = os.listdir(DST_label_PATH)\n",
    "    for file_name in DIR:\n",
    "        file = os.path.join(DST_label_PATH, file_name)\n",
    "        move_file_Test(file)\n",
    "        #print(\"File {} Moved To Test Folder\".format(file_name))\n",
    "        \n",
    "print(\"Files Successfully Moved To Test Folder....\")"
   ]
  },
  {
   "cell_type": "markdown",
   "metadata": {},
   "source": [
    "# Continue To 3. Training & Testing Notebook"
   ]
  }
 ],
 "metadata": {
  "kernelspec": {
   "display_name": "tfod",
   "language": "python",
   "name": "tfod"
  },
  "language_info": {
   "codemirror_mode": {
    "name": "ipython",
    "version": 3
   },
   "file_extension": ".py",
   "mimetype": "text/x-python",
   "name": "python",
   "nbconvert_exporter": "python",
   "pygments_lexer": "ipython3",
   "version": "3.7.3"
  }
 },
 "nbformat": 4,
 "nbformat_minor": 2
}
