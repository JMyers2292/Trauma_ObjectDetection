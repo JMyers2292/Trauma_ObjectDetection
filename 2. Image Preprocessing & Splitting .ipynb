{
 "cells": [
  {
   "cell_type": "markdown",
   "metadata": {},
   "source": [
    "# 1. Import Dependencies"
   ]
  },
  {
   "cell_type": "code",
   "execution_count": 1,
   "metadata": {},
   "outputs": [
    {
     "name": "stdout",
     "output_type": "stream",
     "text": [
      "Requirement already satisfied: opencv-python in d:\\jeremy\\desktop\\tensorflow\\customobjectdetection\\customtfod\\lib\\site-packages (4.5.2.54)\n",
      "Requirement already satisfied: numpy>=1.14.5 in d:\\jeremy\\desktop\\tensorflow\\customobjectdetection\\customtfod\\lib\\site-packages (from opencv-python) (1.19.5)\n"
     ]
    }
   ],
   "source": [
    "!pip install opencv-python"
   ]
  },
  {
   "cell_type": "code",
   "execution_count": 2,
   "metadata": {},
   "outputs": [],
   "source": [
    "# Import opencv\n",
    "import cv2\n",
    "\n",
    "# Import uuid\n",
    "import uuid\n",
    "\n",
    "# Import Operating System\n",
    "import os\n",
    "\n",
    "# Import time\n",
    "import time\n",
    "\n",
    "#Import Numpy\n",
    "import numpy as np\n",
    "\n",
    "import shutil\n",
    "\n",
    "import random as rd"
   ]
  },
  {
   "cell_type": "markdown",
   "metadata": {},
   "source": [
    "# 2. Define Images to Collect"
   ]
  },
  {
   "cell_type": "code",
   "execution_count": 3,
   "metadata": {},
   "outputs": [],
   "source": [
    "#Specify What You Want Labelled As Well As Empty Train & Test Folders For Later\n",
    "labels = ['Mask', 'NoMask']\n",
    "number_imgs = 5"
   ]
  },
  {
   "cell_type": "markdown",
   "metadata": {},
   "source": [
    "# 3. Setup Folders "
   ]
  },
  {
   "cell_type": "code",
   "execution_count": 4,
   "metadata": {},
   "outputs": [],
   "source": [
    "#PATHS\n",
    "FOLDER_PATH = os.getcwd()\n",
    "TF_PATH = os.path.join(FOLDER_PATH,'Tensorflow','workspace','images', 'collectedimages')\n",
    "IMG_PATH = os.path.join(FOLDER_PATH, 'Tensorflow','workspace','images')\n",
    "\n",
    "DOWNLOAD_IMG_PATH = os.path.join(FOLDER_PATH, 'Images')\n",
    "\n",
    "folders = [\"Train\", \"Test\"]"
   ]
  },
  {
   "cell_type": "code",
   "execution_count": 5,
   "metadata": {},
   "outputs": [
    {
     "name": "stdout",
     "output_type": "stream",
     "text": [
      "D:\\Jeremy\\Desktop\\Tensorflow\\CustomObjectDetection\n"
     ]
    }
   ],
   "source": [
    "print(FOLDER_PATH)"
   ]
  },
  {
   "cell_type": "code",
   "execution_count": 6,
   "metadata": {},
   "outputs": [
    {
     "name": "stdout",
     "output_type": "stream",
     "text": [
      "Folder Created For Train....\n",
      "Folder Created For Test....\n",
      "Folder Created For Mask....\n",
      "Folder Created For NoMask....\n"
     ]
    }
   ],
   "source": [
    "#Create Folders for Each Label\n",
    "if not os.path.exists(TF_PATH):\n",
    "    if os.name == 'posix':\n",
    "        !mkdir -p {TF_PATH}\n",
    "    if os.name == 'nt':\n",
    "        !mkdir {TF_PATH}\n",
    "\n",
    "#Create Train & Test Folders\n",
    "os.chdir(IMG_PATH)\n",
    "for folder in folders:\n",
    "    path = os.path.join(IMG_PATH, folder)\n",
    "    if not os.path.exists(path):\n",
    "        !mkdir {path}\n",
    "        print(\"Folder Created For {}....\".format(folder))\n",
    "    else:\n",
    "        print(\"Folder Already Created For {}....\".format(folder))\n",
    "        \n",
    "#Create Folders For Custom Labels\n",
    "for label in labels:\n",
    "    path = os.path.join(TF_PATH, label)\n",
    "    if not os.path.exists(path):\n",
    "        !mkdir {path}\n",
    "        print(\"Folder Created For {}....\".format(label))\n",
    "    else:\n",
    "        print(\"Folder Already Created For {}....\".format(label))"
   ]
  },
  {
   "cell_type": "markdown",
   "metadata": {},
   "source": [
    "# 4. Capture Images On Camera (Optional)"
   ]
  },
  {
   "cell_type": "code",
   "execution_count": null,
   "metadata": {},
   "outputs": [],
   "source": [
    "save_Files_PATH = os.path.join(IMG_PATH,'collectedimages')\n",
    "\n",
    "for label in labels:\n",
    "    cap = cv2.VideoCapture(0)\n",
    "    print('Collecting images for {}'.format(label))\n",
    "    time.sleep(5)\n",
    "    for imgnum in range(number_imgs):\n",
    "        print('Collecting image {}'.format(imgnum))\n",
    "        ret, frame = cap.read()\n",
    "        imgname = os.path.join(save_Files_PATH,label,label+'.'+'{}.jpg'.format(str(uuid.uuid1())))\n",
    "        cv2.imwrite(imgname, frame)\n",
    "        cv2.imshow('frame', frame)\n",
    "        time.sleep(2)\n",
    "\n",
    "        if cv2.waitKey(1) == ord('q'):\n",
    "            break\n",
    "cap.release()\n",
    "cv2.destroyAllWindows()"
   ]
  },
  {
   "cell_type": "markdown",
   "metadata": {},
   "source": [
    "# 4. Copy Images From Other Folder"
   ]
  },
  {
   "cell_type": "code",
   "execution_count": 7,
   "metadata": {},
   "outputs": [
    {
     "name": "stdout",
     "output_type": "stream",
     "text": [
      "D:\\Jeremy\\Desktop\\Tensorflow\\CustomObjectDetection\\Images\n",
      "Files Copied To Destination Folder....\n",
      "D:\\Jeremy\\Desktop\\Tensorflow\\CustomObjectDetection\\Images\n",
      "Files Copied To Destination Folder....\n"
     ]
    }
   ],
   "source": [
    "for label in labels:\n",
    "    src = os.path.join(DOWNLOAD_IMG_PATH, label)\n",
    "    print(DOWNLOAD_IMG_PATH)\n",
    "    dest = os.path.join(TF_PATH, label)\n",
    "    os.chdir(src)\n",
    "    files = os.listdir(src)\n",
    "    if len(os.listdir(dest))== 0:\n",
    "        for file in files:\n",
    "            shutil.copy(file, dest)\n",
    "        print(\"Files Copied To Destination Folder....\")\n",
    "    else:\n",
    "        print(\"Files Already Copied From {} Folder...\".format(label))"
   ]
  },
  {
   "cell_type": "markdown",
   "metadata": {},
   "source": [
    "# 5. Renaming Images"
   ]
  },
  {
   "cell_type": "code",
   "execution_count": 8,
   "metadata": {},
   "outputs": [
    {
     "name": "stdout",
     "output_type": "stream",
     "text": [
      "Images Successfully Renamed...\n"
     ]
    }
   ],
   "source": [
    "#Rename Images to <label>.num.jpg\n",
    "\n",
    "for label in labels:\n",
    "    DST_label_PATH = os.path.join(TF_PATH, label)\n",
    "    os.chdir(DST_label_PATH)\n",
    "    DIR = os.listdir(DST_label_PATH)\n",
    "    for count, file_name in enumerate(DIR):\n",
    "        src = DST_label_PATH + '\\\\' + file_name\n",
    "        dst = DST_label_PATH + '\\\\' + label + \"_\" + str(count+1) + \".jpg\"\n",
    "        os.rename(src, dst)\n",
    "print(\"Images Successfully Renamed...\")"
   ]
  },
  {
   "cell_type": "markdown",
   "metadata": {},
   "source": [
    "# 6. Import Image Labelling "
   ]
  },
  {
   "cell_type": "code",
   "execution_count": 9,
   "metadata": {
    "scrolled": true
   },
   "outputs": [
    {
     "name": "stdout",
     "output_type": "stream",
     "text": [
      "Requirement already satisfied: pyqt5 in d:\\jeremy\\desktop\\tensorflow\\customobjectdetection\\customtfod\\lib\\site-packages (5.15.4)\n",
      "Requirement already satisfied: lxml in d:\\jeremy\\desktop\\tensorflow\\customobjectdetection\\customtfod\\lib\\site-packages (4.6.3)\n",
      "Requirement already satisfied: PyQt5-sip<13,>=12.8 in d:\\jeremy\\desktop\\tensorflow\\customobjectdetection\\customtfod\\lib\\site-packages (from pyqt5) (12.9.0)\n",
      "Requirement already satisfied: PyQt5-Qt5>=5.15 in d:\\jeremy\\desktop\\tensorflow\\customobjectdetection\\customtfod\\lib\\site-packages (from pyqt5) (5.15.2)\n"
     ]
    }
   ],
   "source": [
    "!pip install --upgrade pyqt5 lxml"
   ]
  },
  {
   "cell_type": "code",
   "execution_count": 10,
   "metadata": {},
   "outputs": [],
   "source": [
    "LABEL_IMG_PATH = os.path.join(FOLDER_PATH,'Tensorflow','labelImg')"
   ]
  },
  {
   "cell_type": "code",
   "execution_count": 11,
   "metadata": {},
   "outputs": [
    {
     "name": "stdout",
     "output_type": "stream",
     "text": [
      "Folder Created and Repo Copied...\n"
     ]
    },
    {
     "name": "stderr",
     "output_type": "stream",
     "text": [
      "Cloning into 'D:\\Jeremy\\Desktop\\Tensorflow\\CustomObjectDetection\\Tensorflow\\labelImg'...\n"
     ]
    }
   ],
   "source": [
    "#Create a Folder For Image Labeling \n",
    "if not os.path.exists(LABEL_IMG_PATH):\n",
    "    !mkdir {LABEL_IMG_PATH}\n",
    "    !git clone https://github.com/tzutalin/labelImg {LABEL_IMG_PATH}\n",
    "    print(\"Folder Created and Repo Copied...\")\n",
    "else:\n",
    "    print(\"Folder Already Created and Repo Copied....\")"
   ]
  },
  {
   "cell_type": "code",
   "execution_count": 12,
   "metadata": {},
   "outputs": [],
   "source": [
    "if os.name == 'posix':\n",
    "    !cd {LABEL_IMG_PATH} && make qt5py3\n",
    "if os.name =='nt':\n",
    "    !cd {LABEL_IMG_PATH} && pyrcc5 -o libs/resources.py resources.qrc"
   ]
  },
  {
   "cell_type": "markdown",
   "metadata": {},
   "source": [
    "# 7. Open Label Image Probram & Label Images"
   ]
  },
  {
   "cell_type": "code",
   "execution_count": 13,
   "metadata": {},
   "outputs": [
    {
     "name": "stdout",
     "output_type": "stream",
     "text": [
      "Image:D:\\Jeremy\\Desktop\\Tensorflow\\CustomObjectDetection\\Tensorflow\\workspace\\images\\collectedimages\\Mask\\Mask_1.jpg -> Annotation:D:/Jeremy/Desktop/Tensorflow/CustomObjectDetection/Tensorflow/workspace/images/collectedimages/Mask/Mask_1.xml\n",
      "Image:D:\\Jeremy\\Desktop\\Tensorflow\\CustomObjectDetection\\Tensorflow\\workspace\\images\\collectedimages\\Mask\\Mask_2.jpg -> Annotation:D:/Jeremy/Desktop/Tensorflow/CustomObjectDetection/Tensorflow/workspace/images/collectedimages/Mask/Mask_2.xml\n",
      "Cancel creation.\n",
      "Image:D:\\Jeremy\\Desktop\\Tensorflow\\CustomObjectDetection\\Tensorflow\\workspace\\images\\collectedimages\\Mask\\Mask_3.jpg -> Annotation:D:/Jeremy/Desktop/Tensorflow/CustomObjectDetection/Tensorflow/workspace/images/collectedimages/Mask/Mask_3.xml\n",
      "Image:D:\\Jeremy\\Desktop\\Tensorflow\\CustomObjectDetection\\Tensorflow\\workspace\\images\\collectedimages\\Mask\\Mask_4.jpg -> Annotation:D:/Jeremy/Desktop/Tensorflow/CustomObjectDetection/Tensorflow/workspace/images/collectedimages/Mask/Mask_4.xml\n",
      "Image:D:\\Jeremy\\Desktop\\Tensorflow\\CustomObjectDetection\\Tensorflow\\workspace\\images\\collectedimages\\Mask\\Mask_5.jpg -> Annotation:D:/Jeremy/Desktop/Tensorflow/CustomObjectDetection/Tensorflow/workspace/images/collectedimages/Mask/Mask_5.xml\n",
      "Image:D:\\Jeremy\\Desktop\\Tensorflow\\CustomObjectDetection\\Tensorflow\\workspace\\images\\collectedimages\\Mask\\Mask_6.jpg -> Annotation:D:/Jeremy/Desktop/Tensorflow/CustomObjectDetection/Tensorflow/workspace/images/collectedimages/Mask/Mask_6.xml"
     ]
    },
    {
     "name": "stderr",
     "output_type": "stream",
     "text": [
      "qt.gui.icc: fromIccProfile: failed minimal tag size sanity\n",
      "qt.gui.icc: fromIccProfile: failed minimal tag size sanity\n"
     ]
    },
    {
     "name": "stdout",
     "output_type": "stream",
     "text": [
      "\n",
      "Image:D:\\Jeremy\\Desktop\\Tensorflow\\CustomObjectDetection\\Tensorflow\\workspace\\images\\collectedimages\\Mask\\Mask_7.jpg -> Annotation:D:/Jeremy/Desktop/Tensorflow/CustomObjectDetection/Tensorflow/workspace/images/collectedimages/Mask/Mask_7.xml\n",
      "Image:D:\\Jeremy\\Desktop\\Tensorflow\\CustomObjectDetection\\Tensorflow\\workspace\\images\\collectedimages\\Mask\\Mask_8.jpg -> Annotation:D:/Jeremy/Desktop/Tensorflow/CustomObjectDetection/Tensorflow/workspace/images/collectedimages/Mask/Mask_8.xml\n",
      "Image:D:\\Jeremy\\Desktop\\Tensorflow\\CustomObjectDetection\\Tensorflow\\workspace\\images\\collectedimages\\Mask\\Mask_9.jpg -> Annotation:D:/Jeremy/Desktop/Tensorflow/CustomObjectDetection/Tensorflow/workspace/images/collectedimages/Mask/Mask_9.xml\n",
      "Image:D:\\Jeremy\\Desktop\\Tensorflow\\CustomObjectDetection\\Tensorflow\\workspace\\images\\collectedimages\\Mask\\Mask_10.jpg -> Annotation:D:/Jeremy/Desktop/Tensorflow/CustomObjectDetection/Tensorflow/workspace/images/collectedimages/Mask/Mask_10.xml\n",
      "Image:D:\\Jeremy\\Desktop\\Tensorflow\\CustomObjectDetection\\Tensorflow\\workspace\\images\\collectedimages\\Mask\\Mask_11.jpg -> Annotation:D:/Jeremy/Desktop/Tensorflow/CustomObjectDetection/Tensorflow/workspace/images/collectedimages/Mask/Mask_11.xml\n",
      "Image:D:\\Jeremy\\Desktop\\Tensorflow\\CustomObjectDetection\\Tensorflow\\workspace\\images\\collectedimages\\Mask\\Mask_12.jpg -> Annotation:D:/Jeremy/Desktop/Tensorflow/CustomObjectDetection/Tensorflow/workspace/images/collectedimages/Mask/Mask_12.xml\n",
      "Image:D:\\Jeremy\\Desktop\\Tensorflow\\CustomObjectDetection\\Tensorflow\\workspace\\images\\collectedimages\\Mask\\Mask_13.jpg -> Annotation:D:/Jeremy/Desktop/Tensorflow/CustomObjectDetection/Tensorflow/workspace/images/collectedimages/Mask/Mask_13.xml\n",
      "Image:D:\\Jeremy\\Desktop\\Tensorflow\\CustomObjectDetection\\Tensorflow\\workspace\\images\\collectedimages\\Mask\\Mask_14.jpg -> Annotation:D:/Jeremy/Desktop/Tensorflow/CustomObjectDetection/Tensorflow/workspace/images/collectedimages/Mask/Mask_14.xml\n",
      "Image:D:\\Jeremy\\Desktop\\Tensorflow\\CustomObjectDetection\\Tensorflow\\workspace\\images\\collectedimages\\Mask\\Mask_15.jpg -> Annotation:D:/Jeremy/Desktop/Tensorflow/CustomObjectDetection/Tensorflow/workspace/images/collectedimages/Mask/Mask_15.xml\n",
      "Image:D:\\Jeremy\\Desktop\\Tensorflow\\CustomObjectDetection\\Tensorflow\\workspace\\images\\collectedimages\\Mask\\Mask_16.jpg -> Annotation:D:/Jeremy/Desktop/Tensorflow/CustomObjectDetection/Tensorflow/workspace/images/collectedimages/Mask/Mask_16.xml\n",
      "Image:D:\\Jeremy\\Desktop\\Tensorflow\\CustomObjectDetection\\Tensorflow\\workspace\\images\\collectedimages\\Mask\\Mask_17.jpg -> Annotation:D:/Jeremy/Desktop/Tensorflow/CustomObjectDetection/Tensorflow/workspace/images/collectedimages/Mask/Mask_17.xml\n",
      "Image:D:\\Jeremy\\Desktop\\Tensorflow\\CustomObjectDetection\\Tensorflow\\workspace\\images\\collectedimages\\Mask\\Mask_18.jpg -> Annotation:D:/Jeremy/Desktop/Tensorflow/CustomObjectDetection/Tensorflow/workspace/images/collectedimages/Mask/Mask_18.xml\n",
      "Image:D:\\Jeremy\\Desktop\\Tensorflow\\CustomObjectDetection\\Tensorflow\\workspace\\images\\collectedimages\\Mask\\Mask_19.jpg -> Annotation:D:/Jeremy/Desktop/Tensorflow/CustomObjectDetection/Tensorflow/workspace/images/collectedimages/Mask/Mask_19.xml\n",
      "Image:D:\\Jeremy\\Desktop\\Tensorflow\\CustomObjectDetection\\Tensorflow\\workspace\\images\\collectedimages\\Mask\\Mask_20.jpg -> Annotation:D:/Jeremy/Desktop/Tensorflow/CustomObjectDetection/Tensorflow/workspace/images/collectedimages/Mask/Mask_20.xml\n",
      "Image:D:\\Jeremy\\Desktop\\Tensorflow\\CustomObjectDetection\\Tensorflow\\workspace\\images\\collectedimages\\Mask\\Mask_21.jpg -> Annotation:D:/Jeremy/Desktop/Tensorflow/CustomObjectDetection/Tensorflow/workspace/images/collectedimages/Mask/Mask_21.xml\n",
      "Image:D:\\Jeremy\\Desktop\\Tensorflow\\CustomObjectDetection\\Tensorflow\\workspace\\images\\collectedimages\\Mask\\Mask_22.jpg -> Annotation:D:/Jeremy/Desktop/Tensorflow/CustomObjectDetection/Tensorflow/workspace/images/collectedimages/Mask/Mask_22.xml\n",
      "Image:D:\\Jeremy\\Desktop\\Tensorflow\\CustomObjectDetection\\Tensorflow\\workspace\\images\\collectedimages\\Mask\\Mask_23.jpg -> Annotation:D:/Jeremy/Desktop/Tensorflow/CustomObjectDetection/Tensorflow/workspace/images/collectedimages/Mask/Mask_23.xml\n",
      "Image:D:\\Jeremy\\Desktop\\Tensorflow\\CustomObjectDetection\\Tensorflow\\workspace\\images\\collectedimages\\Mask\\Mask_24.jpg -> Annotation:D:/Jeremy/Desktop/Tensorflow/CustomObjectDetection/Tensorflow/workspace/images/collectedimages/Mask/Mask_24.xml\n",
      "Image:D:\\Jeremy\\Desktop\\Tensorflow\\CustomObjectDetection\\Tensorflow\\workspace\\images\\collectedimages\\NoMask\\NoMask_1.jpg -> Annotation:D:/Jeremy/Desktop/Tensorflow/CustomObjectDetection/Tensorflow/workspace/images/collectedimages/NoMask/NoMask_1.xml\n",
      "Image:D:\\Jeremy\\Desktop\\Tensorflow\\CustomObjectDetection\\Tensorflow\\workspace\\images\\collectedimages\\NoMask\\NoMask_2.jpg -> Annotation:D:/Jeremy/Desktop/Tensorflow/CustomObjectDetection/Tensorflow/workspace/images/collectedimages/NoMask/NoMask_2.xml\n",
      "Image:D:\\Jeremy\\Desktop\\Tensorflow\\CustomObjectDetection\\Tensorflow\\workspace\\images\\collectedimages\\NoMask\\NoMask_3.jpg -> Annotation:D:/Jeremy/Desktop/Tensorflow/CustomObjectDetection/Tensorflow/workspace/images/collectedimages/NoMask/NoMask_3.xml\n",
      "Image:D:\\Jeremy\\Desktop\\Tensorflow\\CustomObjectDetection\\Tensorflow\\workspace\\images\\collectedimages\\NoMask\\NoMask_4.jpg -> Annotation:D:/Jeremy/Desktop/Tensorflow/CustomObjectDetection/Tensorflow/workspace/images/collectedimages/NoMask/NoMask_4.xml\n",
      "Image:D:\\Jeremy\\Desktop\\Tensorflow\\CustomObjectDetection\\Tensorflow\\workspace\\images\\collectedimages\\NoMask\\NoMask_5.jpg -> Annotation:D:/Jeremy/Desktop/Tensorflow/CustomObjectDetection/Tensorflow/workspace/images/collectedimages/NoMask/NoMask_5.xml\n",
      "Image:D:\\Jeremy\\Desktop\\Tensorflow\\CustomObjectDetection\\Tensorflow\\workspace\\images\\collectedimages\\NoMask\\NoMask_6.jpg -> Annotation:D:/Jeremy/Desktop/Tensorflow/CustomObjectDetection/Tensorflow/workspace/images/collectedimages/NoMask/NoMask_6.xml\n",
      "Image:D:\\Jeremy\\Desktop\\Tensorflow\\CustomObjectDetection\\Tensorflow\\workspace\\images\\collectedimages\\NoMask\\NoMask_7.jpg -> Annotation:D:/Jeremy/Desktop/Tensorflow/CustomObjectDetection/Tensorflow/workspace/images/collectedimages/NoMask/NoMask_7.xml\n",
      "Cancel creation.\n",
      "Image:D:\\Jeremy\\Desktop\\Tensorflow\\CustomObjectDetection\\Tensorflow\\workspace\\images\\collectedimages\\NoMask\\NoMask_8.jpg -> Annotation:D:/Jeremy/Desktop/Tensorflow/CustomObjectDetection/Tensorflow/workspace/images/collectedimages/NoMask/NoMask_8.xml\n",
      "Image:D:\\Jeremy\\Desktop\\Tensorflow\\CustomObjectDetection\\Tensorflow\\workspace\\images\\collectedimages\\NoMask\\NoMask_9.jpg -> Annotation:D:/Jeremy/Desktop/Tensorflow/CustomObjectDetection/Tensorflow/workspace/images/collectedimages/NoMask/NoMask_9.xml\n",
      "Image:D:\\Jeremy\\Desktop\\Tensorflow\\CustomObjectDetection\\Tensorflow\\workspace\\images\\collectedimages\\NoMask\\NoMask_10.jpg -> Annotation:D:/Jeremy/Desktop/Tensorflow/CustomObjectDetection/Tensorflow/workspace/images/collectedimages/NoMask/NoMask_10.xml\n",
      "Image:D:\\Jeremy\\Desktop\\Tensorflow\\CustomObjectDetection\\Tensorflow\\workspace\\images\\collectedimages\\NoMask\\NoMask_11.jpg -> Annotation:D:/Jeremy/Desktop/Tensorflow/CustomObjectDetection/Tensorflow/workspace/images/collectedimages/NoMask/NoMask_11.xml\n",
      "Image:D:\\Jeremy\\Desktop\\Tensorflow\\CustomObjectDetection\\Tensorflow\\workspace\\images\\collectedimages\\NoMask\\NoMask_12.jpg -> Annotation:D:/Jeremy/Desktop/Tensorflow/CustomObjectDetection/Tensorflow/workspace/images/collectedimages/NoMask/NoMask_12.xml\n",
      "Image:D:\\Jeremy\\Desktop\\Tensorflow\\CustomObjectDetection\\Tensorflow\\workspace\\images\\collectedimages\\NoMask\\NoMask_13.jpg -> Annotation:D:/Jeremy/Desktop/Tensorflow/CustomObjectDetection/Tensorflow/workspace/images/collectedimages/NoMask/NoMask_13.xml\n",
      "Image:D:\\Jeremy\\Desktop\\Tensorflow\\CustomObjectDetection\\Tensorflow\\workspace\\images\\collectedimages\\NoMask\\NoMask_14.jpg -> Annotation:D:/Jeremy/Desktop/Tensorflow/CustomObjectDetection/Tensorflow/workspace/images/collectedimages/NoMask/NoMask_14.xml\n",
      "Cancel creation.\n",
      "Image:D:\\Jeremy\\Desktop\\Tensorflow\\CustomObjectDetection\\Tensorflow\\workspace\\images\\collectedimages\\NoMask\\NoMask_15.jpg -> Annotation:D:/Jeremy/Desktop/Tensorflow/CustomObjectDetection/Tensorflow/workspace/images/collectedimages/NoMask/NoMask_15.xml\n",
      "Cancel creation.\n",
      "Image:D:\\Jeremy\\Desktop\\Tensorflow\\CustomObjectDetection\\Tensorflow\\workspace\\images\\collectedimages\\NoMask\\NoMask_16.jpg -> Annotation:D:/Jeremy/Desktop/Tensorflow/CustomObjectDetection/Tensorflow/workspace/images/collectedimages/NoMask/NoMask_16.xml\n",
      "Image:D:\\Jeremy\\Desktop\\Tensorflow\\CustomObjectDetection\\Tensorflow\\workspace\\images\\collectedimages\\NoMask\\NoMask_17.jpg -> Annotation:D:/Jeremy/Desktop/Tensorflow/CustomObjectDetection/Tensorflow/workspace/images/collectedimages/NoMask/NoMask_17.xml\n",
      "Image:D:\\Jeremy\\Desktop\\Tensorflow\\CustomObjectDetection\\Tensorflow\\workspace\\images\\collectedimages\\NoMask\\NoMask_18.jpg -> Annotation:D:/Jeremy/Desktop/Tensorflow/CustomObjectDetection/Tensorflow/workspace/images/collectedimages/NoMask/NoMask_18.xml\n",
      "Image:D:\\Jeremy\\Desktop\\Tensorflow\\CustomObjectDetection\\Tensorflow\\workspace\\images\\collectedimages\\NoMask\\NoMask_19.jpg -> Annotation:D:/Jeremy/Desktop/Tensorflow/CustomObjectDetection/Tensorflow/workspace/images/collectedimages/NoMask/NoMask_19.xml\n",
      "Image:D:\\Jeremy\\Desktop\\Tensorflow\\CustomObjectDetection\\Tensorflow\\workspace\\images\\collectedimages\\NoMask\\NoMask_20.jpg -> Annotation:D:/Jeremy/Desktop/Tensorflow/CustomObjectDetection/Tensorflow/workspace/images/collectedimages/NoMask/NoMask_20.xml\n",
      "Image:D:\\Jeremy\\Desktop\\Tensorflow\\CustomObjectDetection\\Tensorflow\\workspace\\images\\collectedimages\\NoMask\\NoMask_21.jpg -> Annotation:D:/Jeremy/Desktop/Tensorflow/CustomObjectDetection/Tensorflow/workspace/images/collectedimages/NoMask/NoMask_21.xml\n",
      "Image:D:\\Jeremy\\Desktop\\Tensorflow\\CustomObjectDetection\\Tensorflow\\workspace\\images\\collectedimages\\NoMask\\NoMask_22.jpg -> Annotation:D:/Jeremy/Desktop/Tensorflow/CustomObjectDetection/Tensorflow/workspace/images/collectedimages/NoMask/NoMask_22.xml\n",
      "Image:D:\\Jeremy\\Desktop\\Tensorflow\\CustomObjectDetection\\Tensorflow\\workspace\\images\\collectedimages\\NoMask\\NoMask_23.jpg -> Annotation:D:/Jeremy/Desktop/Tensorflow/CustomObjectDetection/Tensorflow/workspace/images/collectedimages/NoMask/NoMask_23.xml\n",
      "Image:D:\\Jeremy\\Desktop\\Tensorflow\\CustomObjectDetection\\Tensorflow\\workspace\\images\\collectedimages\\NoMask\\NoMask_24.jpg -> Annotation:D:/Jeremy/Desktop/Tensorflow/CustomObjectDetection/Tensorflow/workspace/images/collectedimages/NoMask/NoMask_24.xml\n",
      "Image:D:\\Jeremy\\Desktop\\Tensorflow\\CustomObjectDetection\\Tensorflow\\workspace\\images\\collectedimages\\NoMask\\NoMask_25.jpg -> Annotation:D:/Jeremy/Desktop/Tensorflow/CustomObjectDetection/Tensorflow/workspace/images/collectedimages/NoMask/NoMask_25.xml\n",
      "Image:D:\\Jeremy\\Desktop\\Tensorflow\\CustomObjectDetection\\Tensorflow\\workspace\\images\\collectedimages\\NoMask\\NoMask_26.jpg -> Annotation:D:/Jeremy/Desktop/Tensorflow/CustomObjectDetection/Tensorflow/workspace/images/collectedimages/NoMask/NoMask_26.xml\n",
      "Image:D:\\Jeremy\\Desktop\\Tensorflow\\CustomObjectDetection\\Tensorflow\\workspace\\images\\collectedimages\\NoMask\\NoMask_27.jpg -> Annotation:D:/Jeremy/Desktop/Tensorflow/CustomObjectDetection/Tensorflow/workspace/images/collectedimages/NoMask/NoMask_27.xml\n",
      "Image:D:\\Jeremy\\Desktop\\Tensorflow\\CustomObjectDetection\\Tensorflow\\workspace\\images\\collectedimages\\NoMask\\NoMask_28.jpg -> Annotation:D:/Jeremy/Desktop/Tensorflow/CustomObjectDetection/Tensorflow/workspace/images/collectedimages/NoMask/NoMask_28.xml\n",
      "Image:D:\\Jeremy\\Desktop\\Tensorflow\\CustomObjectDetection\\Tensorflow\\workspace\\images\\collectedimages\\NoMask\\NoMask_29.jpg -> Annotation:D:/Jeremy/Desktop/Tensorflow/CustomObjectDetection/Tensorflow/workspace/images/collectedimages/NoMask/NoMask_29.xml\n"
     ]
    }
   ],
   "source": [
    "#Open Label Image Program\n",
    "!cd {LABEL_IMG_PATH} && python labelImg.py"
   ]
  },
  {
   "cell_type": "markdown",
   "metadata": {},
   "source": [
    "# 8. Splitting Images Into Training & Testing"
   ]
  },
  {
   "cell_type": "code",
   "execution_count": 14,
   "metadata": {},
   "outputs": [],
   "source": [
    "#Make a function to move files to Train folder\n",
    "\n",
    "def move_file_Train(src_path):\n",
    "    dst = os.path.join(IMG_PATH, 'Train')\n",
    "    src = src_path\n",
    "    shutil.move(src, dst)"
   ]
  },
  {
   "cell_type": "code",
   "execution_count": 15,
   "metadata": {},
   "outputs": [],
   "source": [
    "#Make a function to move files to Test folder\n",
    "\n",
    "def move_file_Test(src_path):\n",
    "    dst = os.path.join(IMG_PATH, 'Test')\n",
    "    src = src_path\n",
    "    shutil.move(src, dst)"
   ]
  },
  {
   "cell_type": "code",
   "execution_count": 16,
   "metadata": {},
   "outputs": [],
   "source": [
    "def rand_num_gen(length_dir):\n",
    "    randomNum = rd.randrange(1, length_dir)\n",
    "    return randomNum"
   ]
  },
  {
   "cell_type": "code",
   "execution_count": 29,
   "metadata": {},
   "outputs": [
    {
     "name": "stdout",
     "output_type": "stream",
     "text": [
      "Number of Images For Training Taken From Mask: 16\n",
      "Number of Images For Training Taken From NoMask: 20\n",
      "20.299999999999997 Files Successfully Moved To Train Folder\n"
     ]
    }
   ],
   "source": [
    "#Training Ratio Split Into Train Folder\n",
    "TRAIN_RATIO = 0.7\n",
    "randList = []\n",
    "for label in labels:\n",
    "    DST_label_PATH = os.path.join(TF_PATH, label)\n",
    "    os.chdir(DST_label_PATH)\n",
    "    DIR = os.listdir(DST_label_PATH)\n",
    "    LEN_DIR = len(DIR)/2\n",
    "    NUM_IMG_SPLIT = LEN_DIR*TRAIN_RATIO\n",
    "    print(\"Number of Images For Training Taken From {}: {}\".format(label, int(NUM_IMG_SPLIT)))\n",
    "    for x in range(int(NUM_IMG_SPLIT)):\n",
    "        randNum = rand_num_gen(LEN_DIR)\n",
    "        if len(randList) != int(NUM_IMG_SPLIT) and randNum not in randList:\n",
    "            randList.append(randNum)\n",
    "        else:\n",
    "            while (randNum in randList):\n",
    "                randNum = rand_num_gen(LEN_DIR)\n",
    "            if len(randList) != int(NUM_IMG_SPLIT) and randNum not in randList:\n",
    "                randList.append(randNum)\n",
    "        \n",
    "        IMG_SELECT = os.path.join(DST_label_PATH, label + \"_\" + str(randList[x]) + \".jpg\")\n",
    "        LABELIMG_SLECT = os.path.join(DST_label_PATH, label + \"_\" + str(randList[x]) + \".xml\")\n",
    "        #print(\"File {}_{}.jpg Moved To Train Folder\".format(label, randList[x]))\n",
    "        #print(\"File {}_{}.xml Moved To Train Folder\".format(label, randList[x]))\n",
    "        move_file_Train(IMG_SELECT)  \n",
    "        move_file_Train(LABELIMG_SLECT)\n",
    "print(\"Files Successfully Moved To Train Folder....\")"
   ]
  },
  {
   "cell_type": "code",
   "execution_count": 30,
   "metadata": {},
   "outputs": [
    {
     "name": "stdout",
     "output_type": "stream",
     "text": [
      "Number of Images For Training Taken From Mask: 20\n",
      "Number of Images For Training Taken From NoMask: 20\n",
      "Files Successfully Moved To Test Folder....\n"
     ]
    }
   ],
   "source": [
    "#Remainder Images Moved Into Test Folder\n",
    "\n",
    "for label in labels:\n",
    "    DST_label_PATH = os.path.join(TF_PATH, label)\n",
    "    os.chdir(DST_label_PATH)\n",
    "    DIR = os.listdir(DST_label_PATH)\n",
    "    print(\"Number of Images For Training Taken From {}: {}\".format(label, int(NUM_IMG_SPLIT))) \n",
    "    for file_name in DIR:\n",
    "        file = os.path.join(DST_label_PATH, file_name)\n",
    "        move_file_Test(file)\n",
    "        #print(\"File {} Moved To Test Folder\".format(file_name))\n",
    "        \n",
    "print(\"Files Successfully Moved To Test Folder....\")"
   ]
  },
  {
   "cell_type": "markdown",
   "metadata": {},
   "source": [
    "# Continue To 3. Training & Testing Notebook"
   ]
  }
 ],
 "metadata": {
  "kernelspec": {
   "display_name": "customTFOD",
   "language": "python",
   "name": "customtfod"
  },
  "language_info": {
   "codemirror_mode": {
    "name": "ipython",
    "version": 3
   },
   "file_extension": ".py",
   "mimetype": "text/x-python",
   "name": "python",
   "nbconvert_exporter": "python",
   "pygments_lexer": "ipython3",
   "version": "3.7.3"
  }
 },
 "nbformat": 4,
 "nbformat_minor": 2
}
