{
 "cells": [
  {
   "cell_type": "markdown",
   "metadata": {},
   "source": [
    "# 1. Import Dependencies"
   ]
  },
  {
   "cell_type": "code",
   "execution_count": 1,
   "metadata": {},
   "outputs": [
    {
     "name": "stdout",
     "output_type": "stream",
     "text": [
      "Requirement already satisfied: opencv-python in d:\\jeremy\\desktop\\tensorflow\\trauma_objectdetection\\tfod\\lib\\site-packages (4.5.5.62)\n",
      "Requirement already satisfied: numpy>=1.14.5 in d:\\jeremy\\desktop\\tensorflow\\trauma_objectdetection\\tfod\\lib\\site-packages (from opencv-python) (1.21.5)\n"
     ]
    }
   ],
   "source": [
    "!pip install opencv-python"
   ]
  },
  {
   "cell_type": "code",
   "execution_count": 2,
   "metadata": {},
   "outputs": [],
   "source": [
    "# Import opencv\n",
    "import cv2\n",
    "\n",
    "# Import uuid\n",
    "import uuid\n",
    "\n",
    "# Import Operating System\n",
    "import os\n",
    "\n",
    "# Import time\n",
    "import time\n",
    "\n",
    "#Import Numpy\n",
    "import numpy as np\n",
    "\n",
    "import shutil\n",
    "\n",
    "import random as rd"
   ]
  },
  {
   "cell_type": "markdown",
   "metadata": {},
   "source": [
    "# 2. Define Images to Collect"
   ]
  },
  {
   "cell_type": "code",
   "execution_count": 3,
   "metadata": {},
   "outputs": [],
   "source": [
    "#Specify What You Want Labelled As Well As Empty Train & Test Folders For Later\n",
    "labels = ['BulletWound', 'AbrasionWound']\n",
    "#number_imgs = 5"
   ]
  },
  {
   "cell_type": "markdown",
   "metadata": {},
   "source": [
    "# 3. Setup Folders "
   ]
  },
  {
   "cell_type": "code",
   "execution_count": 4,
   "metadata": {},
   "outputs": [],
   "source": [
    "#PATHS\n",
    "FOLDER_PATH = os.getcwd()\n",
    "TF_PATH = os.path.join(FOLDER_PATH,'Tensorflow','workspace','images', 'collectedimages')\n",
    "IMG_PATH = os.path.join(FOLDER_PATH, 'Tensorflow','workspace','images')\n",
    "\n",
    "DOWNLOAD_IMG_PATH = os.path.join(FOLDER_PATH, 'Images')\n",
    "\n",
    "folders = [\"Train\", \"Test\"]"
   ]
  },
  {
   "cell_type": "code",
   "execution_count": 5,
   "metadata": {},
   "outputs": [
    {
     "name": "stdout",
     "output_type": "stream",
     "text": [
      "D:\\Jeremy\\Desktop\\Tensorflow\\Trauma_ObjectDetection\n"
     ]
    }
   ],
   "source": [
    "print(FOLDER_PATH)"
   ]
  },
  {
   "cell_type": "code",
   "execution_count": 6,
   "metadata": {},
   "outputs": [
    {
     "name": "stdout",
     "output_type": "stream",
     "text": [
      "Folder Created For Train....\n",
      "Folder Created For Test....\n"
     ]
    }
   ],
   "source": [
    "#Create Folders for Each Label\n",
    "if not os.path.exists(TF_PATH):\n",
    "    if os.name == 'posix':\n",
    "        !mkdir -p {TF_PATH}\n",
    "    if os.name == 'nt':\n",
    "        !mkdir {TF_PATH}\n",
    "\n",
    "#Create Train & Test Folders\n",
    "os.chdir(IMG_PATH)\n",
    "for folder in folders:\n",
    "    path = os.path.join(IMG_PATH, folder)\n",
    "    if not os.path.exists(path):\n",
    "        !mkdir {path}\n",
    "        print(\"Folder Created For {}....\".format(folder))\n",
    "    else:\n",
    "        print(\"Folder Already Created For {}....\".format(folder))\n",
    "        \n",
    "# #Create Folders For Custom Labels\n",
    "# for label in labels:\n",
    "#     path = os.path.join(TF_PATH, label)\n",
    "#     if not os.path.exists(path):\n",
    "#         !mkdir {path}\n",
    "#         print(\"Folder Created For {}....\".format(label))\n",
    "#     else:\n",
    "#         print(\"Folder Already Created For {}....\".format(label))"
   ]
  },
  {
   "cell_type": "markdown",
   "metadata": {},
   "source": [
    "# 4. Capture Images On Camera (Optional)"
   ]
  },
  {
   "cell_type": "code",
   "execution_count": null,
   "metadata": {},
   "outputs": [],
   "source": [
    "save_Files_PATH = os.path.join(IMG_PATH,'collectedimages')\n",
    "\n",
    "for label in labels:\n",
    "    cap = cv2.VideoCapture(0)\n",
    "    print('Collecting images for {}'.format(label))\n",
    "    time.sleep(5)\n",
    "    for imgnum in range(number_imgs):\n",
    "        print('Collecting image {}'.format(imgnum))\n",
    "        ret, frame = cap.read()\n",
    "        imgname = os.path.join(save_Files_PATH,label,label+'.'+'{}.jpg'.format(str(uuid.uuid1())))\n",
    "        cv2.imwrite(imgname, frame)\n",
    "        cv2.imshow('frame', frame)\n",
    "        time.sleep(2)\n",
    "\n",
    "        if cv2.waitKey(1) == ord('q'):\n",
    "            break\n",
    "cap.release()\n",
    "cv2.destroyAllWindows()"
   ]
  },
  {
   "cell_type": "markdown",
   "metadata": {},
   "source": [
    "# 4. Copy Images From Other Folder"
   ]
  },
  {
   "cell_type": "code",
   "execution_count": 7,
   "metadata": {},
   "outputs": [
    {
     "name": "stdout",
     "output_type": "stream",
     "text": [
      "BulletWound Files Copied To Destination Folder....\n",
      "AbrasionWound Files Copied To Destination Folder....\n"
     ]
    }
   ],
   "source": [
    "for label in labels:\n",
    "    src = os.path.join(DOWNLOAD_IMG_PATH, label)\n",
    "    dest = TF_PATH\n",
    "    os.chdir(src)\n",
    "    files = os.listdir(src)\n",
    "    for file in files:\n",
    "        shutil.copy(file, dest)\n",
    "    print(f\"{label} Files Copied To Destination Folder....\")"
   ]
  },
  {
   "cell_type": "markdown",
   "metadata": {},
   "source": [
    "# 5. Renaming Images"
   ]
  },
  {
   "cell_type": "code",
   "execution_count": 9,
   "metadata": {},
   "outputs": [
    {
     "ename": "FileExistsError",
     "evalue": "[WinError 183] Cannot create a file when that file already exists: 'D:\\\\Jeremy\\\\Desktop\\\\Tensorflow\\\\Trauma_ObjectDetection\\\\Tensorflow\\\\workspace\\\\images\\\\collectedimages\\\\AbrasionWound_1.jpg' -> 'D:\\\\Jeremy\\\\Desktop\\\\Tensorflow\\\\Trauma_ObjectDetection\\\\Tensorflow\\\\workspace\\\\images\\\\collectedimages\\\\BulletWound_1.jpg'",
     "output_type": "error",
     "traceback": [
      "\u001b[1;31m---------------------------------------------------------------------------\u001b[0m",
      "\u001b[1;31mFileExistsError\u001b[0m                           Traceback (most recent call last)",
      "\u001b[1;32mC:\\Users\\Jeremy\\AppData\\Local\\Temp/ipykernel_14032/258636066.py\u001b[0m in \u001b[0;36m<module>\u001b[1;34m\u001b[0m\n\u001b[0;32m     11\u001b[0m             \u001b[0msrc\u001b[0m \u001b[1;33m=\u001b[0m \u001b[0mDST_label_PATH\u001b[0m \u001b[1;33m+\u001b[0m \u001b[1;34m'\\\\'\u001b[0m \u001b[1;33m+\u001b[0m \u001b[0mfile_name\u001b[0m\u001b[1;33m\u001b[0m\u001b[1;33m\u001b[0m\u001b[0m\n\u001b[0;32m     12\u001b[0m             \u001b[0mdst\u001b[0m \u001b[1;33m=\u001b[0m \u001b[0mDST_label_PATH\u001b[0m \u001b[1;33m+\u001b[0m \u001b[1;34m'\\\\'\u001b[0m \u001b[1;33m+\u001b[0m \u001b[0mlabel\u001b[0m \u001b[1;33m+\u001b[0m \u001b[1;34m\"_\"\u001b[0m \u001b[1;33m+\u001b[0m \u001b[0mstr\u001b[0m\u001b[1;33m(\u001b[0m\u001b[0mnum\u001b[0m\u001b[1;33m+\u001b[0m\u001b[1;36m1\u001b[0m\u001b[1;33m)\u001b[0m \u001b[1;33m+\u001b[0m \u001b[1;34m\".jpg\"\u001b[0m\u001b[1;33m\u001b[0m\u001b[1;33m\u001b[0m\u001b[0m\n\u001b[1;32m---> 13\u001b[1;33m             \u001b[0mos\u001b[0m\u001b[1;33m.\u001b[0m\u001b[0mrename\u001b[0m\u001b[1;33m(\u001b[0m\u001b[0msrc\u001b[0m\u001b[1;33m,\u001b[0m \u001b[0mdst\u001b[0m\u001b[1;33m)\u001b[0m\u001b[1;33m\u001b[0m\u001b[1;33m\u001b[0m\u001b[0m\n\u001b[0m\u001b[0;32m     14\u001b[0m         \u001b[1;32melse\u001b[0m\u001b[1;33m:\u001b[0m\u001b[1;33m\u001b[0m\u001b[1;33m\u001b[0m\u001b[0m\n\u001b[0;32m     15\u001b[0m             \u001b[1;32mbreak\u001b[0m\u001b[1;33m\u001b[0m\u001b[1;33m\u001b[0m\u001b[0m\n",
      "\u001b[1;31mFileExistsError\u001b[0m: [WinError 183] Cannot create a file when that file already exists: 'D:\\\\Jeremy\\\\Desktop\\\\Tensorflow\\\\Trauma_ObjectDetection\\\\Tensorflow\\\\workspace\\\\images\\\\collectedimages\\\\AbrasionWound_1.jpg' -> 'D:\\\\Jeremy\\\\Desktop\\\\Tensorflow\\\\Trauma_ObjectDetection\\\\Tensorflow\\\\workspace\\\\images\\\\collectedimages\\\\BulletWound_1.jpg'"
     ]
    }
   ],
   "source": [
    "#Rename Images to <label>.num.jpg\n",
    "for label in labels:\n",
    "    img_folder = os.path.join(DOWNLOAD_IMG_PATH, label) \n",
    "    num_imgs = len(os.listdir(img_folder))\n",
    "    #print(num_imgs)\n",
    "    DST_label_PATH = TF_PATH\n",
    "    os.chdir(DST_label_PATH)\n",
    "    DIR = os.listdir(DST_label_PATH)\n",
    "    for num, file_name in enumerate(DIR):\n",
    "        if num != num_imgs:\n",
    "            src = DST_label_PATH + '\\\\' + file_name\n",
    "            dst = DST_label_PATH + '\\\\' + label + \"_\" + str(num+1) + \".jpg\"\n",
    "            os.rename(src, dst)\n",
    "        else:\n",
    "            break\n",
    "print(\"Images Successfully Renamed...\")       "
   ]
  },
  {
   "cell_type": "markdown",
   "metadata": {},
   "source": [
    "# 6. Import Image Labelling "
   ]
  },
  {
   "cell_type": "code",
   "execution_count": 10,
   "metadata": {
    "scrolled": true
   },
   "outputs": [
    {
     "name": "stdout",
     "output_type": "stream",
     "text": [
      "Requirement already satisfied: pyqt5 in d:\\jeremy\\desktop\\tensorflow\\trauma_objectdetection\\tfod\\lib\\site-packages (5.15.6)\n",
      "Requirement already satisfied: lxml in d:\\jeremy\\desktop\\tensorflow\\trauma_objectdetection\\tfod\\lib\\site-packages (4.7.1)\n",
      "Requirement already satisfied: PyQt5-sip<13,>=12.8 in d:\\jeremy\\desktop\\tensorflow\\trauma_objectdetection\\tfod\\lib\\site-packages (from pyqt5) (12.9.0)\n",
      "Requirement already satisfied: PyQt5-Qt5>=5.15.2 in d:\\jeremy\\desktop\\tensorflow\\trauma_objectdetection\\tfod\\lib\\site-packages (from pyqt5) (5.15.2)\n"
     ]
    }
   ],
   "source": [
    "!pip install --upgrade pyqt5 lxml"
   ]
  },
  {
   "cell_type": "code",
   "execution_count": 11,
   "metadata": {},
   "outputs": [],
   "source": [
    "LABEL_IMG_PATH = os.path.join(FOLDER_PATH,'Tensorflow','labelImg')"
   ]
  },
  {
   "cell_type": "code",
   "execution_count": 12,
   "metadata": {},
   "outputs": [
    {
     "name": "stdout",
     "output_type": "stream",
     "text": [
      "Folder Already Created and Repo Copied....\n"
     ]
    }
   ],
   "source": [
    "#Create a Folder For Image Labeling \n",
    "if not os.path.exists(LABEL_IMG_PATH):\n",
    "    !mkdir {LABEL_IMG_PATH}\n",
    "    !git clone https://github.com/tzutalin/labelImg {LABEL_IMG_PATH}\n",
    "    print(\"Folder Created and Repo Copied...\")\n",
    "else:\n",
    "    print(\"Folder Already Created and Repo Copied....\")"
   ]
  },
  {
   "cell_type": "code",
   "execution_count": 13,
   "metadata": {},
   "outputs": [],
   "source": [
    "if os.name == 'posix':\n",
    "    !cd {LABEL_IMG_PATH} && make qt5py3\n",
    "if os.name =='nt':\n",
    "    !cd {LABEL_IMG_PATH} && pyrcc5 -o libs/resources.py resources.qrc"
   ]
  },
  {
   "cell_type": "markdown",
   "metadata": {},
   "source": [
    "# 7. Open Label Image Probram & Label Images"
   ]
  },
  {
   "cell_type": "code",
   "execution_count": 14,
   "metadata": {},
   "outputs": [
    {
     "name": "stdout",
     "output_type": "stream",
     "text": [
      "Cancel creation.\n",
      "Image:D:\\Jeremy\\Desktop\\Tensorflow\\Trauma_ObjectDetection\\Tensorflow\\workspace\\images\\collectedimages\\BulletWound\\BulletWound_1.jpg -> Annotation:D:/Jeremy/Desktop/Tensorflow/Trauma_ObjectDetection/Tensorflow/workspace/images/collectedimages/BulletWound/BulletWound_1.xml\n",
      "Image:D:\\Jeremy\\Desktop\\Tensorflow\\Trauma_ObjectDetection\\Tensorflow\\workspace\\images\\collectedimages\\BulletWound\\BulletWound_2.jpg -> Annotation:D:/Jeremy/Desktop/Tensorflow/Trauma_ObjectDetection/Tensorflow/workspace/images/collectedimages/BulletWound/BulletWound_2.xml\n",
      "Image:D:\\Jeremy\\Desktop\\Tensorflow\\Trauma_ObjectDetection\\Tensorflow\\workspace\\images\\collectedimages\\BulletWound\\BulletWound_3.jpg -> Annotation:D:/Jeremy/Desktop/Tensorflow/Trauma_ObjectDetection/Tensorflow/workspace/images/collectedimages/BulletWound/BulletWound_3.xml\n",
      "Image:D:\\Jeremy\\Desktop\\Tensorflow\\Trauma_ObjectDetection\\Tensorflow\\workspace\\images\\collectedimages\\BulletWound\\BulletWound_4.jpg -> Annotation:D:/Jeremy/Desktop/Tensorflow/Trauma_ObjectDetection/Tensorflow/workspace/images/collectedimages/BulletWound/BulletWound_4.xml\n",
      "Image:D:\\Jeremy\\Desktop\\Tensorflow\\Trauma_ObjectDetection\\Tensorflow\\workspace\\images\\collectedimages\\BulletWound\\BulletWound_5.jpg -> Annotation:D:/Jeremy/Desktop/Tensorflow/Trauma_ObjectDetection/Tensorflow/workspace/images/collectedimages/BulletWound/BulletWound_5.xml\n",
      "Image:D:\\Jeremy\\Desktop\\Tensorflow\\Trauma_ObjectDetection\\Tensorflow\\workspace\\images\\collectedimages\\BulletWound\\BulletWound_6.jpg -> Annotation:D:/Jeremy/Desktop/Tensorflow/Trauma_ObjectDetection/Tensorflow/workspace/images/collectedimages/BulletWound/BulletWound_6.xml\n",
      "Image:D:\\Jeremy\\Desktop\\Tensorflow\\Trauma_ObjectDetection\\Tensorflow\\workspace\\images\\collectedimages\\BulletWound\\BulletWound_7.jpg -> Annotation:D:/Jeremy/Desktop/Tensorflow/Trauma_ObjectDetection/Tensorflow/workspace/images/collectedimages/BulletWound/BulletWound_7.xml\n",
      "Image:D:\\Jeremy\\Desktop\\Tensorflow\\Trauma_ObjectDetection\\Tensorflow\\workspace\\images\\collectedimages\\BulletWound\\BulletWound_8.jpg -> Annotation:D:/Jeremy/Desktop/Tensorflow/Trauma_ObjectDetection/Tensorflow/workspace/images/collectedimages/BulletWound/BulletWound_8.xml\n",
      "Image:D:\\Jeremy\\Desktop\\Tensorflow\\Trauma_ObjectDetection\\Tensorflow\\workspace\\images\\collectedimages\\BulletWound\\BulletWound_9.jpg -> Annotation:D:/Jeremy/Desktop/Tensorflow/Trauma_ObjectDetection/Tensorflow/workspace/images/collectedimages/BulletWound/BulletWound_9.xml\n",
      "Image:D:\\Jeremy\\Desktop\\Tensorflow\\Trauma_ObjectDetection\\Tensorflow\\workspace\\images\\collectedimages\\BulletWound\\BulletWound_10.jpg -> Annotation:D:/Jeremy/Desktop/Tensorflow/Trauma_ObjectDetection/Tensorflow/workspace/images/collectedimages/BulletWound/BulletWound_10.xml\n",
      "Image:D:\\Jeremy\\Desktop\\Tensorflow\\Trauma_ObjectDetection\\Tensorflow\\workspace\\images\\collectedimages\\BulletWound\\BulletWound_11.jpg -> Annotation:D:/Jeremy/Desktop/Tensorflow/Trauma_ObjectDetection/Tensorflow/workspace/images/collectedimages/BulletWound/BulletWound_11.xml\n",
      "Image:D:\\Jeremy\\Desktop\\Tensorflow\\Trauma_ObjectDetection\\Tensorflow\\workspace\\images\\collectedimages\\BulletWound\\BulletWound_12.jpg -> Annotation:D:/Jeremy/Desktop/Tensorflow/Trauma_ObjectDetection/Tensorflow/workspace/images/collectedimages/BulletWound/BulletWound_12.xml\n",
      "Image:D:\\Jeremy\\Desktop\\Tensorflow\\Trauma_ObjectDetection\\Tensorflow\\workspace\\images\\collectedimages\\BulletWound\\BulletWound_13.jpg -> Annotation:D:/Jeremy/Desktop/Tensorflow/Trauma_ObjectDetection/Tensorflow/workspace/images/collectedimages/BulletWound/BulletWound_13.xml\n",
      "Image:D:\\Jeremy\\Desktop\\Tensorflow\\Trauma_ObjectDetection\\Tensorflow\\workspace\\images\\collectedimages\\BulletWound\\BulletWound_14.jpg -> Annotation:D:/Jeremy/Desktop/Tensorflow/Trauma_ObjectDetection/Tensorflow/workspace/images/collectedimages/BulletWound/BulletWound_14.xml\n",
      "Image:D:\\Jeremy\\Desktop\\Tensorflow\\Trauma_ObjectDetection\\Tensorflow\\workspace\\images\\collectedimages\\BulletWound\\BulletWound_15.jpg -> Annotation:D:/Jeremy/Desktop/Tensorflow/Trauma_ObjectDetection/Tensorflow/workspace/images/collectedimages/BulletWound/BulletWound_15.xml\n",
      "Image:D:\\Jeremy\\Desktop\\Tensorflow\\Trauma_ObjectDetection\\Tensorflow\\workspace\\images\\collectedimages\\BulletWound\\BulletWound_16.jpg -> Annotation:D:/Jeremy/Desktop/Tensorflow/Trauma_ObjectDetection/Tensorflow/workspace/images/collectedimages/BulletWound/BulletWound_16.xml\n",
      "Image:D:\\Jeremy\\Desktop\\Tensorflow\\Trauma_ObjectDetection\\Tensorflow\\workspace\\images\\collectedimages\\BulletWound\\BulletWound_17.jpg -> Annotation:D:/Jeremy/Desktop/Tensorflow/Trauma_ObjectDetection/Tensorflow/workspace/images/collectedimages/BulletWound/BulletWound_17.xml\n",
      "Image:D:\\Jeremy\\Desktop\\Tensorflow\\Trauma_ObjectDetection\\Tensorflow\\workspace\\images\\collectedimages\\BulletWound\\BulletWound_18.jpg -> Annotation:D:/Jeremy/Desktop/Tensorflow/Trauma_ObjectDetection/Tensorflow/workspace/images/collectedimages/BulletWound/BulletWound_18.xml\n",
      "Cancel creation.\n",
      "Image:D:\\Jeremy\\Desktop\\Tensorflow\\Trauma_ObjectDetection\\Tensorflow\\workspace\\images\\collectedimages\\BulletWound\\BulletWound_19.jpg -> Annotation:D:/Jeremy/Desktop/Tensorflow/Trauma_ObjectDetection/Tensorflow/workspace/images/collectedimages/BulletWound/BulletWound_19.xml\n",
      "Image:D:\\Jeremy\\Desktop\\Tensorflow\\Trauma_ObjectDetection\\Tensorflow\\workspace\\images\\collectedimages\\BulletWound\\BulletWound_20.jpg -> Annotation:D:/Jeremy/Desktop/Tensorflow/Trauma_ObjectDetection/Tensorflow/workspace/images/collectedimages/BulletWound/BulletWound_20.xml\n",
      "Image:D:\\Jeremy\\Desktop\\Tensorflow\\Trauma_ObjectDetection\\Tensorflow\\workspace\\images\\collectedimages\\BulletWound\\BulletWound_21.jpg -> Annotation:D:/Jeremy/Desktop/Tensorflow/Trauma_ObjectDetection/Tensorflow/workspace/images/collectedimages/BulletWound/BulletWound_21.xml\n",
      "Image:D:\\Jeremy\\Desktop\\Tensorflow\\Trauma_ObjectDetection\\Tensorflow\\workspace\\images\\collectedimages\\BulletWound\\BulletWound_22.jpg -> Annotation:D:/Jeremy/Desktop/Tensorflow/Trauma_ObjectDetection/Tensorflow/workspace/images/collectedimages/BulletWound/BulletWound_22.xml\n",
      "Image:D:\\Jeremy\\Desktop\\Tensorflow\\Trauma_ObjectDetection\\Tensorflow\\workspace\\images\\collectedimages\\BulletWound\\BulletWound_23.jpg -> Annotation:D:/Jeremy/Desktop/Tensorflow/Trauma_ObjectDetection/Tensorflow/workspace/images/collectedimages/BulletWound/BulletWound_23.xml\n",
      "Image:D:\\Jeremy\\Desktop\\Tensorflow\\Trauma_ObjectDetection\\Tensorflow\\workspace\\images\\collectedimages\\BulletWound\\BulletWound_24.jpg -> Annotation:D:/Jeremy/Desktop/Tensorflow/Trauma_ObjectDetection/Tensorflow/workspace/images/collectedimages/BulletWound/BulletWound_24.xml\n",
      "Image:D:\\Jeremy\\Desktop\\Tensorflow\\Trauma_ObjectDetection\\Tensorflow\\workspace\\images\\collectedimages\\BulletWound\\BulletWound_25.jpg -> Annotation:D:/Jeremy/Desktop/Tensorflow/Trauma_ObjectDetection/Tensorflow/workspace/images/collectedimages/BulletWound/BulletWound_25.xml\n",
      "Image:D:\\Jeremy\\Desktop\\Tensorflow\\Trauma_ObjectDetection\\Tensorflow\\workspace\\images\\collectedimages\\BulletWound\\BulletWound_26.jpg -> Annotation:D:/Jeremy/Desktop/Tensorflow/Trauma_ObjectDetection/Tensorflow/workspace/images/collectedimages/BulletWound/BulletWound_26.xml\n",
      "Image:D:\\Jeremy\\Desktop\\Tensorflow\\Trauma_ObjectDetection\\Tensorflow\\workspace\\images\\collectedimages\\BulletWound\\BulletWound_27.jpg -> Annotation:D:/Jeremy/Desktop/Tensorflow/Trauma_ObjectDetection/Tensorflow/workspace/images/collectedimages/BulletWound/BulletWound_27.xml\n",
      "Image:D:\\Jeremy\\Desktop\\Tensorflow\\Trauma_ObjectDetection\\Tensorflow\\workspace\\images\\collectedimages\\BulletWound\\BulletWound_28.jpg -> Annotation:D:/Jeremy/Desktop/Tensorflow/Trauma_ObjectDetection/Tensorflow/workspace/images/collectedimages/BulletWound/BulletWound_28.xml\n",
      "Image:D:\\Jeremy\\Desktop\\Tensorflow\\Trauma_ObjectDetection\\Tensorflow\\workspace\\images\\collectedimages\\BulletWound\\BulletWound_29.jpg -> Annotation:D:/Jeremy/Desktop/Tensorflow/Trauma_ObjectDetection/Tensorflow/workspace/images/collectedimages/BulletWound/BulletWound_29.xml\n",
      "Image:D:\\Jeremy\\Desktop\\Tensorflow\\Trauma_ObjectDetection\\Tensorflow\\workspace\\images\\collectedimages\\BulletWound\\BulletWound_30.jpg -> Annotation:D:/Jeremy/Desktop/Tensorflow/Trauma_ObjectDetection/Tensorflow/workspace/images/collectedimages/BulletWound/BulletWound_30.xml\n",
      "Image:D:\\Jeremy\\Desktop\\Tensorflow\\Trauma_ObjectDetection\\Tensorflow\\workspace\\images\\collectedimages\\BulletWound\\BulletWound_31.jpg -> Annotation:D:/Jeremy/Desktop/Tensorflow/Trauma_ObjectDetection/Tensorflow/workspace/images/collectedimages/BulletWound/BulletWound_31.xml\n",
      "Image:D:\\Jeremy\\Desktop\\Tensorflow\\Trauma_ObjectDetection\\Tensorflow\\workspace\\images\\collectedimages\\BulletWound\\BulletWound_32.jpg -> Annotation:D:/Jeremy/Desktop/Tensorflow/Trauma_ObjectDetection/Tensorflow/workspace/images/collectedimages/BulletWound/BulletWound_32.xml\n",
      "Image:D:\\Jeremy\\Desktop\\Tensorflow\\Trauma_ObjectDetection\\Tensorflow\\workspace\\images\\collectedimages\\BulletWound\\BulletWound_33.jpg -> Annotation:D:/Jeremy/Desktop/Tensorflow/Trauma_ObjectDetection/Tensorflow/workspace/images/collectedimages/BulletWound/BulletWound_33.xml\n",
      "Image:D:\\Jeremy\\Desktop\\Tensorflow\\Trauma_ObjectDetection\\Tensorflow\\workspace\\images\\collectedimages\\BulletWound\\BulletWound_34.jpg -> Annotation:D:/Jeremy/Desktop/Tensorflow/Trauma_ObjectDetection/Tensorflow/workspace/images/collectedimages/BulletWound/BulletWound_34.xml\n",
      "Image:D:\\Jeremy\\Desktop\\Tensorflow\\Trauma_ObjectDetection\\Tensorflow\\workspace\\images\\collectedimages\\BulletWound\\BulletWound_35.jpg -> Annotation:D:/Jeremy/Desktop/Tensorflow/Trauma_ObjectDetection/Tensorflow/workspace/images/collectedimages/BulletWound/BulletWound_35.xml\n",
      "Image:D:\\Jeremy\\Desktop\\Tensorflow\\Trauma_ObjectDetection\\Tensorflow\\workspace\\images\\collectedimages\\BulletWound\\BulletWound_36.jpg -> Annotation:D:/Jeremy/Desktop/Tensorflow/Trauma_ObjectDetection/Tensorflow/workspace/images/collectedimages/BulletWound/BulletWound_36.xml\n",
      "Image:D:\\Jeremy\\Desktop\\Tensorflow\\Trauma_ObjectDetection\\Tensorflow\\workspace\\images\\collectedimages\\BulletWound\\BulletWound_37.jpg -> Annotation:D:/Jeremy/Desktop/Tensorflow/Trauma_ObjectDetection/Tensorflow/workspace/images/collectedimages/BulletWound/BulletWound_37.xml\n",
      "Image:D:\\Jeremy\\Desktop\\Tensorflow\\Trauma_ObjectDetection\\Tensorflow\\workspace\\images\\collectedimages\\BulletWound\\BulletWound_38.jpg -> Annotation:D:/Jeremy/Desktop/Tensorflow/Trauma_ObjectDetection/Tensorflow/workspace/images/collectedimages/BulletWound/BulletWound_38.xml\n",
      "Image:D:\\Jeremy\\Desktop\\Tensorflow\\Trauma_ObjectDetection\\Tensorflow\\workspace\\images\\collectedimages\\BulletWound\\BulletWound_39.jpg -> Annotation:D:/Jeremy/Desktop/Tensorflow/Trauma_ObjectDetection/Tensorflow/workspace/images/collectedimages/BulletWound/BulletWound_39.xml\n",
      "Image:D:\\Jeremy\\Desktop\\Tensorflow\\Trauma_ObjectDetection\\Tensorflow\\workspace\\images\\collectedimages\\BulletWound\\BulletWound_40.jpg -> Annotation:D:/Jeremy/Desktop/Tensorflow/Trauma_ObjectDetection/Tensorflow/workspace/images/collectedimages/BulletWound/BulletWound_40.xml\n",
      "Image:D:\\Jeremy\\Desktop\\Tensorflow\\Trauma_ObjectDetection\\Tensorflow\\workspace\\images\\collectedimages\\BulletWound\\BulletWound_41.jpg -> Annotation:D:/Jeremy/Desktop/Tensorflow/Trauma_ObjectDetection/Tensorflow/workspace/images/collectedimages/BulletWound/BulletWound_41.xml\n",
      "Image:D:\\Jeremy\\Desktop\\Tensorflow\\Trauma_ObjectDetection\\Tensorflow\\workspace\\images\\collectedimages\\BulletWound\\BulletWound_42.jpg -> Annotation:D:/Jeremy/Desktop/Tensorflow/Trauma_ObjectDetection/Tensorflow/workspace/images/collectedimages/BulletWound/BulletWound_42.xml\n",
      "Image:D:\\Jeremy\\Desktop\\Tensorflow\\Trauma_ObjectDetection\\Tensorflow\\workspace\\images\\collectedimages\\BulletWound\\BulletWound_43.jpg -> Annotation:D:/Jeremy/Desktop/Tensorflow/Trauma_ObjectDetection/Tensorflow/workspace/images/collectedimages/BulletWound/BulletWound_43.xml\n",
      "Image:D:\\Jeremy\\Desktop\\Tensorflow\\Trauma_ObjectDetection\\Tensorflow\\workspace\\images\\collectedimages\\BulletWound\\BulletWound_44.jpg -> Annotation:D:/Jeremy/Desktop/Tensorflow/Trauma_ObjectDetection/Tensorflow/workspace/images/collectedimages/BulletWound/BulletWound_44.xml\n",
      "Image:D:\\Jeremy\\Desktop\\Tensorflow\\Trauma_ObjectDetection\\Tensorflow\\workspace\\images\\collectedimages\\BulletWound\\BulletWound_45.jpg -> Annotation:D:/Jeremy/Desktop/Tensorflow/Trauma_ObjectDetection/Tensorflow/workspace/images/collectedimages/BulletWound/BulletWound_45.xml\n",
      "Image:D:\\Jeremy\\Desktop\\Tensorflow\\Trauma_ObjectDetection\\Tensorflow\\workspace\\images\\collectedimages\\BulletWound\\BulletWound_46.jpg -> Annotation:D:/Jeremy/Desktop/Tensorflow/Trauma_ObjectDetection/Tensorflow/workspace/images/collectedimages/BulletWound/BulletWound_46.xml\n",
      "Image:D:\\Jeremy\\Desktop\\Tensorflow\\Trauma_ObjectDetection\\Tensorflow\\workspace\\images\\collectedimages\\BulletWound\\BulletWound_47.jpg -> Annotation:D:/Jeremy/Desktop/Tensorflow/Trauma_ObjectDetection/Tensorflow/workspace/images/collectedimages/BulletWound/BulletWound_47.xml\n",
      "Image:D:\\Jeremy\\Desktop\\Tensorflow\\Trauma_ObjectDetection\\Tensorflow\\workspace\\images\\collectedimages\\BulletWound\\BulletWound_48.jpg -> Annotation:D:/Jeremy/Desktop/Tensorflow/Trauma_ObjectDetection/Tensorflow/workspace/images/collectedimages/BulletWound/BulletWound_48.xml\n",
      "Image:D:\\Jeremy\\Desktop\\Tensorflow\\Trauma_ObjectDetection\\Tensorflow\\workspace\\images\\collectedimages\\BulletWound\\BulletWound_49.jpg -> Annotation:D:/Jeremy/Desktop/Tensorflow/Trauma_ObjectDetection/Tensorflow/workspace/images/collectedimages/BulletWound/BulletWound_49.xml\n",
      "Image:D:\\Jeremy\\Desktop\\Tensorflow\\Trauma_ObjectDetection\\Tensorflow\\workspace\\images\\collectedimages\\BulletWound\\BulletWound_50.jpg -> Annotation:D:/Jeremy/Desktop/Tensorflow/Trauma_ObjectDetection/Tensorflow/workspace/images/collectedimages/BulletWound/BulletWound_50.xml\n",
      "Image:D:\\Jeremy\\Desktop\\Tensorflow\\Trauma_ObjectDetection\\Tensorflow\\workspace\\images\\collectedimages\\BulletWound\\BulletWound_51.jpg -> Annotation:D:/Jeremy/Desktop/Tensorflow/Trauma_ObjectDetection/Tensorflow/workspace/images/collectedimages/BulletWound/BulletWound_51.xml\n",
      "Image:D:\\Jeremy\\Desktop\\Tensorflow\\Trauma_ObjectDetection\\Tensorflow\\workspace\\images\\collectedimages\\BulletWound\\BulletWound_52.jpg -> Annotation:D:/Jeremy/Desktop/Tensorflow/Trauma_ObjectDetection/Tensorflow/workspace/images/collectedimages/BulletWound/BulletWound_52.xml\n",
      "Image:D:\\Jeremy\\Desktop\\Tensorflow\\Trauma_ObjectDetection\\Tensorflow\\workspace\\images\\collectedimages\\BulletWound\\BulletWound_53.jpg -> Annotation:D:/Jeremy/Desktop/Tensorflow/Trauma_ObjectDetection/Tensorflow/workspace/images/collectedimages/BulletWound/BulletWound_53.xml\n",
      "Image:D:\\Jeremy\\Desktop\\Tensorflow\\Trauma_ObjectDetection\\Tensorflow\\workspace\\images\\collectedimages\\BulletWound\\BulletWound_54.jpg -> Annotation:D:/Jeremy/Desktop/Tensorflow/Trauma_ObjectDetection/Tensorflow/workspace/images/collectedimages/BulletWound/BulletWound_54.xml\n",
      "Image:D:\\Jeremy\\Desktop\\Tensorflow\\Trauma_ObjectDetection\\Tensorflow\\workspace\\images\\collectedimages\\BulletWound\\BulletWound_55.jpg -> Annotation:D:/Jeremy/Desktop/Tensorflow/Trauma_ObjectDetection/Tensorflow/workspace/images/collectedimages/BulletWound/BulletWound_55.xml\n",
      "Image:D:\\Jeremy\\Desktop\\Tensorflow\\Trauma_ObjectDetection\\Tensorflow\\workspace\\images\\collectedimages\\BulletWound\\BulletWound_56.jpg -> Annotation:D:/Jeremy/Desktop/Tensorflow/Trauma_ObjectDetection/Tensorflow/workspace/images/collectedimages/BulletWound/BulletWound_56.xml\n",
      "Image:D:\\Jeremy\\Desktop\\Tensorflow\\Trauma_ObjectDetection\\Tensorflow\\workspace\\images\\collectedimages\\BulletWound\\BulletWound_57.jpg -> Annotation:D:/Jeremy/Desktop/Tensorflow/Trauma_ObjectDetection/Tensorflow/workspace/images/collectedimages/BulletWound/BulletWound_57.xml\n",
      "Image:D:\\Jeremy\\Desktop\\Tensorflow\\Trauma_ObjectDetection\\Tensorflow\\workspace\\images\\collectedimages\\BulletWound\\BulletWound_58.jpg -> Annotation:D:/Jeremy/Desktop/Tensorflow/Trauma_ObjectDetection/Tensorflow/workspace/images/collectedimages/BulletWound/BulletWound_58.xml\n",
      "Image:D:\\Jeremy\\Desktop\\Tensorflow\\Trauma_ObjectDetection\\Tensorflow\\workspace\\images\\collectedimages\\BulletWound\\BulletWound_59.jpg -> Annotation:D:/Jeremy/Desktop/Tensorflow/Trauma_ObjectDetection/Tensorflow/workspace/images/collectedimages/BulletWound/BulletWound_59.xml\n",
      "Image:D:\\Jeremy\\Desktop\\Tensorflow\\Trauma_ObjectDetection\\Tensorflow\\workspace\\images\\collectedimages\\BulletWound\\BulletWound_60.jpg -> Annotation:D:/Jeremy/Desktop/Tensorflow/Trauma_ObjectDetection/Tensorflow/workspace/images/collectedimages/BulletWound/BulletWound_60.xml\n",
      "Image:D:\\Jeremy\\Desktop\\Tensorflow\\Trauma_ObjectDetection\\Tensorflow\\workspace\\images\\collectedimages\\BulletWound\\BulletWound_61.jpg -> Annotation:D:/Jeremy/Desktop/Tensorflow/Trauma_ObjectDetection/Tensorflow/workspace/images/collectedimages/BulletWound/BulletWound_61.xml\n",
      "Image:D:\\Jeremy\\Desktop\\Tensorflow\\Trauma_ObjectDetection\\Tensorflow\\workspace\\images\\collectedimages\\BulletWound\\BulletWound_62.jpg -> Annotation:D:/Jeremy/Desktop/Tensorflow/Trauma_ObjectDetection/Tensorflow/workspace/images/collectedimages/BulletWound/BulletWound_62.xml\n",
      "Image:D:\\Jeremy\\Desktop\\Tensorflow\\Trauma_ObjectDetection\\Tensorflow\\workspace\\images\\collectedimages\\BulletWound\\BulletWound_63.jpg -> Annotation:D:/Jeremy/Desktop/Tensorflow/Trauma_ObjectDetection/Tensorflow/workspace/images/collectedimages/BulletWound/BulletWound_63.xml\n",
      "Image:D:\\Jeremy\\Desktop\\Tensorflow\\Trauma_ObjectDetection\\Tensorflow\\workspace\\images\\collectedimages\\BulletWound\\BulletWound_64.jpg -> Annotation:D:/Jeremy/Desktop/Tensorflow/Trauma_ObjectDetection/Tensorflow/workspace/images/collectedimages/BulletWound/BulletWound_64.xml\n",
      "Image:D:\\Jeremy\\Desktop\\Tensorflow\\Trauma_ObjectDetection\\Tensorflow\\workspace\\images\\collectedimages\\BulletWound\\BulletWound_65.jpg -> Annotation:D:/Jeremy/Desktop/Tensorflow/Trauma_ObjectDetection/Tensorflow/workspace/images/collectedimages/BulletWound/BulletWound_65.xml\n",
      "Image:D:\\Jeremy\\Desktop\\Tensorflow\\Trauma_ObjectDetection\\Tensorflow\\workspace\\images\\collectedimages\\BulletWound\\BulletWound_66.jpg -> Annotation:D:/Jeremy/Desktop/Tensorflow/Trauma_ObjectDetection/Tensorflow/workspace/images/collectedimages/BulletWound/BulletWound_66.xml\n",
      "Image:D:\\Jeremy\\Desktop\\Tensorflow\\Trauma_ObjectDetection\\Tensorflow\\workspace\\images\\collectedimages\\BulletWound\\BulletWound_67.jpg -> Annotation:D:/Jeremy/Desktop/Tensorflow/Trauma_ObjectDetection/Tensorflow/workspace/images/collectedimages/BulletWound/BulletWound_67.xml\n",
      "Image:D:\\Jeremy\\Desktop\\Tensorflow\\Trauma_ObjectDetection\\Tensorflow\\workspace\\images\\collectedimages\\BulletWound\\BulletWound_68.jpg -> Annotation:D:/Jeremy/Desktop/Tensorflow/Trauma_ObjectDetection/Tensorflow/workspace/images/collectedimages/BulletWound/BulletWound_68.xml\n",
      "Image:D:\\Jeremy\\Desktop\\Tensorflow\\Trauma_ObjectDetection\\Tensorflow\\workspace\\images\\collectedimages\\BulletWound\\BulletWound_69.jpg -> Annotation:D:/Jeremy/Desktop/Tensorflow/Trauma_ObjectDetection/Tensorflow/workspace/images/collectedimages/BulletWound/BulletWound_69.xml\n",
      "Image:D:\\Jeremy\\Desktop\\Tensorflow\\Trauma_ObjectDetection\\Tensorflow\\workspace\\images\\collectedimages\\BulletWound\\BulletWound_70.jpg -> Annotation:D:/Jeremy/Desktop/Tensorflow/Trauma_ObjectDetection/Tensorflow/workspace/images/collectedimages/BulletWound/BulletWound_70.xml\n",
      "Image:D:\\Jeremy\\Desktop\\Tensorflow\\Trauma_ObjectDetection\\Tensorflow\\workspace\\images\\collectedimages\\BulletWound\\BulletWound_71.jpg -> Annotation:D:/Jeremy/Desktop/Tensorflow/Trauma_ObjectDetection/Tensorflow/workspace/images/collectedimages/BulletWound/BulletWound_71.xml\n",
      "Image:D:\\Jeremy\\Desktop\\Tensorflow\\Trauma_ObjectDetection\\Tensorflow\\workspace\\images\\collectedimages\\BulletWound\\BulletWound_72.jpg -> Annotation:D:/Jeremy/Desktop/Tensorflow/Trauma_ObjectDetection/Tensorflow/workspace/images/collectedimages/BulletWound/BulletWound_72.xml\n",
      "Image:D:\\Jeremy\\Desktop\\Tensorflow\\Trauma_ObjectDetection\\Tensorflow\\workspace\\images\\collectedimages\\BulletWound\\BulletWound_73.jpg -> Annotation:D:/Jeremy/Desktop/Tensorflow/Trauma_ObjectDetection/Tensorflow/workspace/images/collectedimages/BulletWound/BulletWound_73.xml\n",
      "Image:D:\\Jeremy\\Desktop\\Tensorflow\\Trauma_ObjectDetection\\Tensorflow\\workspace\\images\\collectedimages\\BulletWound\\BulletWound_74.jpg -> Annotation:D:/Jeremy/Desktop/Tensorflow/Trauma_ObjectDetection/Tensorflow/workspace/images/collectedimages/BulletWound/BulletWound_74.xml\n",
      "Image:D:\\Jeremy\\Desktop\\Tensorflow\\Trauma_ObjectDetection\\Tensorflow\\workspace\\images\\collectedimages\\BulletWound\\BulletWound_75.jpg -> Annotation:D:/Jeremy/Desktop/Tensorflow/Trauma_ObjectDetection/Tensorflow/workspace/images/collectedimages/BulletWound/BulletWound_75.xml\n",
      "Image:D:\\Jeremy\\Desktop\\Tensorflow\\Trauma_ObjectDetection\\Tensorflow\\workspace\\images\\collectedimages\\BulletWound\\BulletWound_76.jpg -> Annotation:D:/Jeremy/Desktop/Tensorflow/Trauma_ObjectDetection/Tensorflow/workspace/images/collectedimages/BulletWound/BulletWound_76.xml\n",
      "Image:D:\\Jeremy\\Desktop\\Tensorflow\\Trauma_ObjectDetection\\Tensorflow\\workspace\\images\\collectedimages\\BulletWound\\BulletWound_77.jpg -> Annotation:D:/Jeremy/Desktop/Tensorflow/Trauma_ObjectDetection/Tensorflow/workspace/images/collectedimages/BulletWound/BulletWound_77.xml\n",
      "Image:D:\\Jeremy\\Desktop\\Tensorflow\\Trauma_ObjectDetection\\Tensorflow\\workspace\\images\\collectedimages\\BulletWound\\BulletWound_78.jpg -> Annotation:D:/Jeremy/Desktop/Tensorflow/Trauma_ObjectDetection/Tensorflow/workspace/images/collectedimages/BulletWound/BulletWound_78.xml\n",
      "Image:D:\\Jeremy\\Desktop\\Tensorflow\\Trauma_ObjectDetection\\Tensorflow\\workspace\\images\\collectedimages\\BulletWound\\BulletWound_79.jpg -> Annotation:D:/Jeremy/Desktop/Tensorflow/Trauma_ObjectDetection/Tensorflow/workspace/images/collectedimages/BulletWound/BulletWound_79.xml\n",
      "Image:D:\\Jeremy\\Desktop\\Tensorflow\\Trauma_ObjectDetection\\Tensorflow\\workspace\\images\\collectedimages\\BulletWound\\BulletWound_80.jpg -> Annotation:D:/Jeremy/Desktop/Tensorflow/Trauma_ObjectDetection/Tensorflow/workspace/images/collectedimages/BulletWound/BulletWound_80.xml\n",
      "Image:D:\\Jeremy\\Desktop\\Tensorflow\\Trauma_ObjectDetection\\Tensorflow\\workspace\\images\\collectedimages\\BulletWound\\BulletWound_81.jpg -> Annotation:D:/Jeremy/Desktop/Tensorflow/Trauma_ObjectDetection/Tensorflow/workspace/images/collectedimages/BulletWound/BulletWound_81.xml\n",
      "Image:D:\\Jeremy\\Desktop\\Tensorflow\\Trauma_ObjectDetection\\Tensorflow\\workspace\\images\\collectedimages\\BulletWound\\BulletWound_82.jpg -> Annotation:D:/Jeremy/Desktop/Tensorflow/Trauma_ObjectDetection/Tensorflow/workspace/images/collectedimages/BulletWound/BulletWound_82.xml\n",
      "Image:D:\\Jeremy\\Desktop\\Tensorflow\\Trauma_ObjectDetection\\Tensorflow\\workspace\\images\\collectedimages\\BulletWound\\BulletWound_83.jpg -> Annotation:D:/Jeremy/Desktop/Tensorflow/Trauma_ObjectDetection/Tensorflow/workspace/images/collectedimages/BulletWound/BulletWound_83.xml\n",
      "Image:D:\\Jeremy\\Desktop\\Tensorflow\\Trauma_ObjectDetection\\Tensorflow\\workspace\\images\\collectedimages\\BulletWound\\BulletWound_84.jpg -> Annotation:D:/Jeremy/Desktop/Tensorflow/Trauma_ObjectDetection/Tensorflow/workspace/images/collectedimages/BulletWound/BulletWound_84.xml\n",
      "Image:D:\\Jeremy\\Desktop\\Tensorflow\\Trauma_ObjectDetection\\Tensorflow\\workspace\\images\\collectedimages\\BulletWound\\BulletWound_85.jpg -> Annotation:D:/Jeremy/Desktop/Tensorflow/Trauma_ObjectDetection/Tensorflow/workspace/images/collectedimages/BulletWound/BulletWound_85.xml\n",
      "Image:D:\\Jeremy\\Desktop\\Tensorflow\\Trauma_ObjectDetection\\Tensorflow\\workspace\\images\\collectedimages\\BulletWound\\BulletWound_86.jpg -> Annotation:D:/Jeremy/Desktop/Tensorflow/Trauma_ObjectDetection/Tensorflow/workspace/images/collectedimages/BulletWound/BulletWound_86.xml\n",
      "Image:D:\\Jeremy\\Desktop\\Tensorflow\\Trauma_ObjectDetection\\Tensorflow\\workspace\\images\\collectedimages\\BulletWound\\BulletWound_87.jpg -> Annotation:D:/Jeremy/Desktop/Tensorflow/Trauma_ObjectDetection/Tensorflow/workspace/images/collectedimages/BulletWound/BulletWound_87.xml\n",
      "Image:D:\\Jeremy\\Desktop\\Tensorflow\\Trauma_ObjectDetection\\Tensorflow\\workspace\\images\\collectedimages\\BulletWound\\BulletWound_88.jpg -> Annotation:D:/Jeremy/Desktop/Tensorflow/Trauma_ObjectDetection/Tensorflow/workspace/images/collectedimages/BulletWound/BulletWound_88.xml\n",
      "Image:D:\\Jeremy\\Desktop\\Tensorflow\\Trauma_ObjectDetection\\Tensorflow\\workspace\\images\\collectedimages\\BulletWound\\BulletWound_89.jpg -> Annotation:D:/Jeremy/Desktop/Tensorflow/Trauma_ObjectDetection/Tensorflow/workspace/images/collectedimages/BulletWound/BulletWound_89.xml\n",
      "Image:D:\\Jeremy\\Desktop\\Tensorflow\\Trauma_ObjectDetection\\Tensorflow\\workspace\\images\\collectedimages\\BulletWound\\BulletWound_90.jpg -> Annotation:D:/Jeremy/Desktop/Tensorflow/Trauma_ObjectDetection/Tensorflow/workspace/images/collectedimages/BulletWound/BulletWound_90.xml\n",
      "Image:D:\\Jeremy\\Desktop\\Tensorflow\\Trauma_ObjectDetection\\Tensorflow\\workspace\\images\\collectedimages\\BulletWound\\BulletWound_91.jpg -> Annotation:D:/Jeremy/Desktop/Tensorflow/Trauma_ObjectDetection/Tensorflow/workspace/images/collectedimages/BulletWound/BulletWound_91.xml\n",
      "Image:D:\\Jeremy\\Desktop\\Tensorflow\\Trauma_ObjectDetection\\Tensorflow\\workspace\\images\\collectedimages\\BulletWound\\BulletWound_92.jpg -> Annotation:D:/Jeremy/Desktop/Tensorflow/Trauma_ObjectDetection/Tensorflow/workspace/images/collectedimages/BulletWound/BulletWound_92.xml\n",
      "Image:D:\\Jeremy\\Desktop\\Tensorflow\\Trauma_ObjectDetection\\Tensorflow\\workspace\\images\\collectedimages\\BulletWound\\BulletWound_93.jpg -> Annotation:D:/Jeremy/Desktop/Tensorflow/Trauma_ObjectDetection/Tensorflow/workspace/images/collectedimages/BulletWound/BulletWound_93.xml\n",
      "Image:D:\\Jeremy\\Desktop\\Tensorflow\\Trauma_ObjectDetection\\Tensorflow\\workspace\\images\\collectedimages\\BulletWound\\BulletWound_94.jpg -> Annotation:D:/Jeremy/Desktop/Tensorflow/Trauma_ObjectDetection/Tensorflow/workspace/images/collectedimages/BulletWound/BulletWound_94.xml\n",
      "Image:D:\\Jeremy\\Desktop\\Tensorflow\\Trauma_ObjectDetection\\Tensorflow\\workspace\\images\\collectedimages\\BulletWound\\BulletWound_95.jpg -> Annotation:D:/Jeremy/Desktop/Tensorflow/Trauma_ObjectDetection/Tensorflow/workspace/images/collectedimages/BulletWound/BulletWound_95.xml\n",
      "Image:D:\\Jeremy\\Desktop\\Tensorflow\\Trauma_ObjectDetection\\Tensorflow\\workspace\\images\\collectedimages\\BulletWound\\BulletWound_96.jpg -> Annotation:D:/Jeremy/Desktop/Tensorflow/Trauma_ObjectDetection/Tensorflow/workspace/images/collectedimages/BulletWound/BulletWound_96.xml\n",
      "ESC press\n",
      "Cancel creation.\n",
      "Image:D:\\Jeremy\\Desktop\\Tensorflow\\Trauma_ObjectDetection\\Tensorflow\\workspace\\images\\collectedimages\\BulletWound\\BulletWound_98.jpg -> Annotation:D:/Jeremy/Desktop/Tensorflow/Trauma_ObjectDetection/Tensorflow/workspace/images/collectedimages/BulletWound/BulletWound_98.xml\n",
      "Image:D:\\Jeremy\\Desktop\\Tensorflow\\Trauma_ObjectDetection\\Tensorflow\\workspace\\images\\collectedimages\\BulletWound\\BulletWound_99.jpg -> Annotation:D:/Jeremy/Desktop/Tensorflow/Trauma_ObjectDetection/Tensorflow/workspace/images/collectedimages/BulletWound/BulletWound_99.xml\n",
      "Image:D:\\Jeremy\\Desktop\\Tensorflow\\Trauma_ObjectDetection\\Tensorflow\\workspace\\images\\collectedimages\\BulletWound\\BulletWound_100.jpg -> Annotation:D:/Jeremy/Desktop/Tensorflow/Trauma_ObjectDetection/Tensorflow/workspace/images/collectedimages/BulletWound/BulletWound_100.xml\n",
      "Image:D:\\Jeremy\\Desktop\\Tensorflow\\Trauma_ObjectDetection\\Tensorflow\\workspace\\images\\collectedimages\\BulletWound\\BulletWound_101.jpg -> Annotation:D:/Jeremy/Desktop/Tensorflow/Trauma_ObjectDetection/Tensorflow/workspace/images/collectedimages/BulletWound/BulletWound_101.xml\n",
      "Image:D:\\Jeremy\\Desktop\\Tensorflow\\Trauma_ObjectDetection\\Tensorflow\\workspace\\images\\collectedimages\\BulletWound\\BulletWound_102.jpg -> Annotation:D:/Jeremy/Desktop/Tensorflow/Trauma_ObjectDetection/Tensorflow/workspace/images/collectedimages/BulletWound/BulletWound_102.xml\n",
      "Image:D:\\Jeremy\\Desktop\\Tensorflow\\Trauma_ObjectDetection\\Tensorflow\\workspace\\images\\collectedimages\\BulletWound\\BulletWound_103.jpg -> Annotation:D:/Jeremy/Desktop/Tensorflow/Trauma_ObjectDetection/Tensorflow/workspace/images/collectedimages/BulletWound/BulletWound_103.xml\n",
      "Image:D:\\Jeremy\\Desktop\\Tensorflow\\Trauma_ObjectDetection\\Tensorflow\\workspace\\images\\collectedimages\\BulletWound\\BulletWound_105.jpg -> Annotation:D:/Jeremy/Desktop/Tensorflow/Trauma_ObjectDetection/Tensorflow/workspace/images/collectedimages/BulletWound/BulletWound_105.xml\n",
      "Image:D:\\Jeremy\\Desktop\\Tensorflow\\Trauma_ObjectDetection\\Tensorflow\\workspace\\images\\collectedimages\\BulletWound\\BulletWound_106.jpg -> Annotation:D:/Jeremy/Desktop/Tensorflow/Trauma_ObjectDetection/Tensorflow/workspace/images/collectedimages/BulletWound/BulletWound_106.xml\n",
      "Image:D:\\Jeremy\\Desktop\\Tensorflow\\Trauma_ObjectDetection\\Tensorflow\\workspace\\images\\collectedimages\\BulletWound\\BulletWound_107.jpg -> Annotation:D:/Jeremy/Desktop/Tensorflow/Trauma_ObjectDetection/Tensorflow/workspace/images/collectedimages/BulletWound/BulletWound_107.xml\n",
      "Image:D:\\Jeremy\\Desktop\\Tensorflow\\Trauma_ObjectDetection\\Tensorflow\\workspace\\images\\collectedimages\\BulletWound\\BulletWound_108.jpg -> Annotation:D:/Jeremy/Desktop/Tensorflow/Trauma_ObjectDetection/Tensorflow/workspace/images/collectedimages/BulletWound/BulletWound_108.xml\n",
      "Image:D:\\Jeremy\\Desktop\\Tensorflow\\Trauma_ObjectDetection\\Tensorflow\\workspace\\images\\collectedimages\\BulletWound\\BulletWound_109.jpg -> Annotation:D:/Jeremy/Desktop/Tensorflow/Trauma_ObjectDetection/Tensorflow/workspace/images/collectedimages/BulletWound/BulletWound_109.xml\n",
      "Image:D:\\Jeremy\\Desktop\\Tensorflow\\Trauma_ObjectDetection\\Tensorflow\\workspace\\images\\collectedimages\\BulletWound\\BulletWound_110.jpg -> Annotation:D:/Jeremy/Desktop/Tensorflow/Trauma_ObjectDetection/Tensorflow/workspace/images/collectedimages/BulletWound/BulletWound_110.xml\n",
      "Image:D:\\Jeremy\\Desktop\\Tensorflow\\Trauma_ObjectDetection\\Tensorflow\\workspace\\images\\collectedimages\\BulletWound\\BulletWound_111.jpg -> Annotation:D:/Jeremy/Desktop/Tensorflow/Trauma_ObjectDetection/Tensorflow/workspace/images/collectedimages/BulletWound/BulletWound_111.xml\n",
      "Image:D:\\Jeremy\\Desktop\\Tensorflow\\Trauma_ObjectDetection\\Tensorflow\\workspace\\images\\collectedimages\\BulletWound\\BulletWound_112.jpg -> Annotation:D:/Jeremy/Desktop/Tensorflow/Trauma_ObjectDetection/Tensorflow/workspace/images/collectedimages/BulletWound/BulletWound_112.xml\n",
      "Image:D:\\Jeremy\\Desktop\\Tensorflow\\Trauma_ObjectDetection\\Tensorflow\\workspace\\images\\collectedimages\\BulletWound\\BulletWound_113.jpg -> Annotation:D:/Jeremy/Desktop/Tensorflow/Trauma_ObjectDetection/Tensorflow/workspace/images/collectedimages/BulletWound/BulletWound_113.xml\n",
      "Image:D:\\Jeremy\\Desktop\\Tensorflow\\Trauma_ObjectDetection\\Tensorflow\\workspace\\images\\collectedimages\\BulletWound\\BulletWound_114.jpg -> Annotation:D:/Jeremy/Desktop/Tensorflow/Trauma_ObjectDetection/Tensorflow/workspace/images/collectedimages/BulletWound/BulletWound_114.xml\n",
      "Image:D:\\Jeremy\\Desktop\\Tensorflow\\Trauma_ObjectDetection\\Tensorflow\\workspace\\images\\collectedimages\\BulletWound\\BulletWound_115.jpg -> Annotation:D:/Jeremy/Desktop/Tensorflow/Trauma_ObjectDetection/Tensorflow/workspace/images/collectedimages/BulletWound/BulletWound_115.xml\n",
      "Image:D:\\Jeremy\\Desktop\\Tensorflow\\Trauma_ObjectDetection\\Tensorflow\\workspace\\images\\collectedimages\\BulletWound\\BulletWound_116.jpg -> Annotation:D:/Jeremy/Desktop/Tensorflow/Trauma_ObjectDetection/Tensorflow/workspace/images/collectedimages/BulletWound/BulletWound_116.xml\n",
      "Image:D:\\Jeremy\\Desktop\\Tensorflow\\Trauma_ObjectDetection\\Tensorflow\\workspace\\images\\collectedimages\\BulletWound\\BulletWound_117.jpg -> Annotation:D:/Jeremy/Desktop/Tensorflow/Trauma_ObjectDetection/Tensorflow/workspace/images/collectedimages/BulletWound/BulletWound_117.xml\n",
      "Image:D:\\Jeremy\\Desktop\\Tensorflow\\Trauma_ObjectDetection\\Tensorflow\\workspace\\images\\collectedimages\\BulletWound\\BulletWound_118.jpg -> Annotation:D:/Jeremy/Desktop/Tensorflow/Trauma_ObjectDetection/Tensorflow/workspace/images/collectedimages/BulletWound/BulletWound_118.xml\n",
      "Image:D:\\Jeremy\\Desktop\\Tensorflow\\Trauma_ObjectDetection\\Tensorflow\\workspace\\images\\collectedimages\\BulletWound\\BulletWound_119.jpg -> Annotation:D:/Jeremy/Desktop/Tensorflow/Trauma_ObjectDetection/Tensorflow/workspace/images/collectedimages/BulletWound/BulletWound_119.xml\n",
      "Image:D:\\Jeremy\\Desktop\\Tensorflow\\Trauma_ObjectDetection\\Tensorflow\\workspace\\images\\collectedimages\\BulletWound\\BulletWound_120.jpg -> Annotation:D:/Jeremy/Desktop/Tensorflow/Trauma_ObjectDetection/Tensorflow/workspace/images/collectedimages/BulletWound/BulletWound_120.xml\n",
      "Image:D:\\Jeremy\\Desktop\\Tensorflow\\Trauma_ObjectDetection\\Tensorflow\\workspace\\images\\collectedimages\\BulletWound\\BulletWound_121.jpg -> Annotation:D:/Jeremy/Desktop/Tensorflow/Trauma_ObjectDetection/Tensorflow/workspace/images/collectedimages/BulletWound/BulletWound_121.xml\n",
      "Image:D:\\Jeremy\\Desktop\\Tensorflow\\Trauma_ObjectDetection\\Tensorflow\\workspace\\images\\collectedimages\\BulletWound\\BulletWound_122.jpg -> Annotation:D:/Jeremy/Desktop/Tensorflow/Trauma_ObjectDetection/Tensorflow/workspace/images/collectedimages/BulletWound/BulletWound_122.xml\n",
      "Image:D:\\Jeremy\\Desktop\\Tensorflow\\Trauma_ObjectDetection\\Tensorflow\\workspace\\images\\collectedimages\\BulletWound\\BulletWound_123.jpg -> Annotation:D:/Jeremy/Desktop/Tensorflow/Trauma_ObjectDetection/Tensorflow/workspace/images/collectedimages/BulletWound/BulletWound_123.xml\n",
      "Image:D:\\Jeremy\\Desktop\\Tensorflow\\Trauma_ObjectDetection\\Tensorflow\\workspace\\images\\collectedimages\\BulletWound\\BulletWound_124.jpg -> Annotation:D:/Jeremy/Desktop/Tensorflow/Trauma_ObjectDetection/Tensorflow/workspace/images/collectedimages/BulletWound/BulletWound_124.xml\n",
      "Image:D:\\Jeremy\\Desktop\\Tensorflow\\Trauma_ObjectDetection\\Tensorflow\\workspace\\images\\collectedimages\\BulletWound\\BulletWound_125.jpg -> Annotation:D:/Jeremy/Desktop/Tensorflow/Trauma_ObjectDetection/Tensorflow/workspace/images/collectedimages/BulletWound/BulletWound_125.xml\n",
      "Image:D:\\Jeremy\\Desktop\\Tensorflow\\Trauma_ObjectDetection\\Tensorflow\\workspace\\images\\collectedimages\\BulletWound\\BulletWound_126.jpg -> Annotation:D:/Jeremy/Desktop/Tensorflow/Trauma_ObjectDetection/Tensorflow/workspace/images/collectedimages/BulletWound/BulletWound_126.xml\n",
      "Image:D:\\Jeremy\\Desktop\\Tensorflow\\Trauma_ObjectDetection\\Tensorflow\\workspace\\images\\collectedimages\\BulletWound\\BulletWound_127.jpg -> Annotation:D:/Jeremy/Desktop/Tensorflow/Trauma_ObjectDetection/Tensorflow/workspace/images/collectedimages/BulletWound/BulletWound_127.xml\n",
      "Image:D:\\Jeremy\\Desktop\\Tensorflow\\Trauma_ObjectDetection\\Tensorflow\\workspace\\images\\collectedimages\\BulletWound\\BulletWound_128.jpg -> Annotation:D:/Jeremy/Desktop/Tensorflow/Trauma_ObjectDetection/Tensorflow/workspace/images/collectedimages/BulletWound/BulletWound_128.xml\n",
      "Image:D:\\Jeremy\\Desktop\\Tensorflow\\Trauma_ObjectDetection\\Tensorflow\\workspace\\images\\collectedimages\\BulletWound\\BulletWound_129.jpg -> Annotation:D:/Jeremy/Desktop/Tensorflow/Trauma_ObjectDetection/Tensorflow/workspace/images/collectedimages/BulletWound/BulletWound_129.xml\n",
      "Image:D:\\Jeremy\\Desktop\\Tensorflow\\Trauma_ObjectDetection\\Tensorflow\\workspace\\images\\collectedimages\\BulletWound\\BulletWound_130.jpg -> Annotation:D:/Jeremy/Desktop/Tensorflow/Trauma_ObjectDetection/Tensorflow/workspace/images/collectedimages/BulletWound/BulletWound_130.xml\n",
      "Image:D:\\Jeremy\\Desktop\\Tensorflow\\Trauma_ObjectDetection\\Tensorflow\\workspace\\images\\collectedimages\\BulletWound\\BulletWound_131.jpg -> Annotation:D:/Jeremy/Desktop/Tensorflow/Trauma_ObjectDetection/Tensorflow/workspace/images/collectedimages/BulletWound/BulletWound_131.xml\n",
      "Image:D:\\Jeremy\\Desktop\\Tensorflow\\Trauma_ObjectDetection\\Tensorflow\\workspace\\images\\collectedimages\\BulletWound\\BulletWound_132.jpg -> Annotation:D:/Jeremy/Desktop/Tensorflow/Trauma_ObjectDetection/Tensorflow/workspace/images/collectedimages/BulletWound/BulletWound_132.xml\n",
      "Image:D:\\Jeremy\\Desktop\\Tensorflow\\Trauma_ObjectDetection\\Tensorflow\\workspace\\images\\collectedimages\\BulletWound\\BulletWound_133.jpg -> Annotation:D:/Jeremy/Desktop/Tensorflow/Trauma_ObjectDetection/Tensorflow/workspace/images/collectedimages/BulletWound/BulletWound_133.xml\n",
      "Image:D:\\Jeremy\\Desktop\\Tensorflow\\Trauma_ObjectDetection\\Tensorflow\\workspace\\images\\collectedimages\\BulletWound\\BulletWound_134.jpg -> Annotation:D:/Jeremy/Desktop/Tensorflow/Trauma_ObjectDetection/Tensorflow/workspace/images/collectedimages/BulletWound/BulletWound_134.xml\n",
      "Image:D:\\Jeremy\\Desktop\\Tensorflow\\Trauma_ObjectDetection\\Tensorflow\\workspace\\images\\collectedimages\\BulletWound\\BulletWound_135.jpg -> Annotation:D:/Jeremy/Desktop/Tensorflow/Trauma_ObjectDetection/Tensorflow/workspace/images/collectedimages/BulletWound/BulletWound_135.xml\n",
      "Image:D:\\Jeremy\\Desktop\\Tensorflow\\Trauma_ObjectDetection\\Tensorflow\\workspace\\images\\collectedimages\\BulletWound\\BulletWound_136.jpg -> Annotation:D:/Jeremy/Desktop/Tensorflow/Trauma_ObjectDetection/Tensorflow/workspace/images/collectedimages/BulletWound/BulletWound_136.xml\n",
      "Image:D:\\Jeremy\\Desktop\\Tensorflow\\Trauma_ObjectDetection\\Tensorflow\\workspace\\images\\collectedimages\\BulletWound\\BulletWound_137.jpg -> Annotation:D:/Jeremy/Desktop/Tensorflow/Trauma_ObjectDetection/Tensorflow/workspace/images/collectedimages/BulletWound/BulletWound_137.xml\n",
      "Image:D:\\Jeremy\\Desktop\\Tensorflow\\Trauma_ObjectDetection\\Tensorflow\\workspace\\images\\collectedimages\\BulletWound\\BulletWound_138.jpg -> Annotation:D:/Jeremy/Desktop/Tensorflow/Trauma_ObjectDetection/Tensorflow/workspace/images/collectedimages/BulletWound/BulletWound_138.xml\n",
      "Image:D:\\Jeremy\\Desktop\\Tensorflow\\Trauma_ObjectDetection\\Tensorflow\\workspace\\images\\collectedimages\\BulletWound\\BulletWound_139.jpg -> Annotation:D:/Jeremy/Desktop/Tensorflow/Trauma_ObjectDetection/Tensorflow/workspace/images/collectedimages/BulletWound/BulletWound_139.xml\n",
      "Image:D:\\Jeremy\\Desktop\\Tensorflow\\Trauma_ObjectDetection\\Tensorflow\\workspace\\images\\collectedimages\\BulletWound\\BulletWound_140.jpg -> Annotation:D:/Jeremy/Desktop/Tensorflow/Trauma_ObjectDetection/Tensorflow/workspace/images/collectedimages/BulletWound/BulletWound_140.xml\n",
      "Image:D:\\Jeremy\\Desktop\\Tensorflow\\Trauma_ObjectDetection\\Tensorflow\\workspace\\images\\collectedimages\\BulletWound\\BulletWound_141.jpg -> Annotation:D:/Jeremy/Desktop/Tensorflow/Trauma_ObjectDetection/Tensorflow/workspace/images/collectedimages/BulletWound/BulletWound_141.xml\n",
      "Image:D:\\Jeremy\\Desktop\\Tensorflow\\Trauma_ObjectDetection\\Tensorflow\\workspace\\images\\collectedimages\\BulletWound\\BulletWound_142.jpg -> Annotation:D:/Jeremy/Desktop/Tensorflow/Trauma_ObjectDetection/Tensorflow/workspace/images/collectedimages/BulletWound/BulletWound_142.xml\n",
      "Image:D:\\Jeremy\\Desktop\\Tensorflow\\Trauma_ObjectDetection\\Tensorflow\\workspace\\images\\collectedimages\\BulletWound\\BulletWound_143.jpg -> Annotation:D:/Jeremy/Desktop/Tensorflow/Trauma_ObjectDetection/Tensorflow/workspace/images/collectedimages/BulletWound/BulletWound_143.xml\n",
      "Image:D:\\Jeremy\\Desktop\\Tensorflow\\Trauma_ObjectDetection\\Tensorflow\\workspace\\images\\collectedimages\\BulletWound\\BulletWound_144.jpg -> Annotation:D:/Jeremy/Desktop/Tensorflow/Trauma_ObjectDetection/Tensorflow/workspace/images/collectedimages/BulletWound/BulletWound_144.xml\n",
      "Image:D:\\Jeremy\\Desktop\\Tensorflow\\Trauma_ObjectDetection\\Tensorflow\\workspace\\images\\collectedimages\\BulletWound\\BulletWound_145.jpg -> Annotation:D:/Jeremy/Desktop/Tensorflow/Trauma_ObjectDetection/Tensorflow/workspace/images/collectedimages/BulletWound/BulletWound_145.xml\n",
      "Image:D:\\Jeremy\\Desktop\\Tensorflow\\Trauma_ObjectDetection\\Tensorflow\\workspace\\images\\collectedimages\\BulletWound\\BulletWound_146.jpg -> Annotation:D:/Jeremy/Desktop/Tensorflow/Trauma_ObjectDetection/Tensorflow/workspace/images/collectedimages/BulletWound/BulletWound_146.xml\n",
      "Image:D:\\Jeremy\\Desktop\\Tensorflow\\Trauma_ObjectDetection\\Tensorflow\\workspace\\images\\collectedimages\\BulletWound\\BulletWound_147.jpg -> Annotation:D:/Jeremy/Desktop/Tensorflow/Trauma_ObjectDetection/Tensorflow/workspace/images/collectedimages/BulletWound/BulletWound_147.xml\n",
      "Image:D:\\Jeremy\\Desktop\\Tensorflow\\Trauma_ObjectDetection\\Tensorflow\\workspace\\images\\collectedimages\\BulletWound\\BulletWound_148.jpg -> Annotation:D:/Jeremy/Desktop/Tensorflow/Trauma_ObjectDetection/Tensorflow/workspace/images/collectedimages/BulletWound/BulletWound_148.xml\n",
      "Image:D:\\Jeremy\\Desktop\\Tensorflow\\Trauma_ObjectDetection\\Tensorflow\\workspace\\images\\collectedimages\\BulletWound\\BulletWound_149.jpg -> Annotation:D:/Jeremy/Desktop/Tensorflow/Trauma_ObjectDetection/Tensorflow/workspace/images/collectedimages/BulletWound/BulletWound_149.xml\n",
      "Image:D:\\Jeremy\\Desktop\\Tensorflow\\Trauma_ObjectDetection\\Tensorflow\\workspace\\images\\collectedimages\\BulletWound\\BulletWound_150.jpg -> Annotation:D:/Jeremy/Desktop/Tensorflow/Trauma_ObjectDetection/Tensorflow/workspace/images/collectedimages/BulletWound/BulletWound_150.xml\n",
      "Image:D:\\Jeremy\\Desktop\\Tensorflow\\Trauma_ObjectDetection\\Tensorflow\\workspace\\images\\collectedimages\\BulletWound\\BulletWound_151.jpg -> Annotation:D:/Jeremy/Desktop/Tensorflow/Trauma_ObjectDetection/Tensorflow/workspace/images/collectedimages/BulletWound/BulletWound_151.xml\n",
      "Image:D:\\Jeremy\\Desktop\\Tensorflow\\Trauma_ObjectDetection\\Tensorflow\\workspace\\images\\collectedimages\\BulletWound\\BulletWound_152.jpg -> Annotation:D:/Jeremy/Desktop/Tensorflow/Trauma_ObjectDetection/Tensorflow/workspace/images/collectedimages/BulletWound/BulletWound_152.xml\n",
      "Image:D:\\Jeremy\\Desktop\\Tensorflow\\Trauma_ObjectDetection\\Tensorflow\\workspace\\images\\collectedimages\\BulletWound\\BulletWound_153.jpg -> Annotation:D:/Jeremy/Desktop/Tensorflow/Trauma_ObjectDetection/Tensorflow/workspace/images/collectedimages/BulletWound/BulletWound_153.xml\n",
      "Image:D:\\Jeremy\\Desktop\\Tensorflow\\Trauma_ObjectDetection\\Tensorflow\\workspace\\images\\collectedimages\\BulletWound\\BulletWound_154.jpg -> Annotation:D:/Jeremy/Desktop/Tensorflow/Trauma_ObjectDetection/Tensorflow/workspace/images/collectedimages/BulletWound/BulletWound_154.xml\n",
      "Image:D:\\Jeremy\\Desktop\\Tensorflow\\Trauma_ObjectDetection\\Tensorflow\\workspace\\images\\collectedimages\\BulletWound\\BulletWound_155.jpg -> Annotation:D:/Jeremy/Desktop/Tensorflow/Trauma_ObjectDetection/Tensorflow/workspace/images/collectedimages/BulletWound/BulletWound_155.xml\n",
      "Image:D:\\Jeremy\\Desktop\\Tensorflow\\Trauma_ObjectDetection\\Tensorflow\\workspace\\images\\collectedimages\\BulletWound\\BulletWound_156.jpg -> Annotation:D:/Jeremy/Desktop/Tensorflow/Trauma_ObjectDetection/Tensorflow/workspace/images/collectedimages/BulletWound/BulletWound_156.xml\n"
     ]
    }
   ],
   "source": [
    "#Open Label Image Program\n",
    "!cd {LABEL_IMG_PATH} && python labelImg.py"
   ]
  },
  {
   "cell_type": "markdown",
   "metadata": {},
   "source": [
    "# 8. Splitting Images Into Training & Testing"
   ]
  },
  {
   "cell_type": "code",
   "execution_count": 14,
   "metadata": {},
   "outputs": [],
   "source": [
    "#Make a function to move files to Train folder\n",
    "\n",
    "def move_file_Train(src_path):\n",
    "    dst = os.path.join(IMG_PATH, 'Train')\n",
    "    src = src_path\n",
    "    shutil.move(src, dst)"
   ]
  },
  {
   "cell_type": "code",
   "execution_count": 15,
   "metadata": {},
   "outputs": [],
   "source": [
    "#Make a function to move files to Test folder\n",
    "\n",
    "def move_file_Test(src_path):\n",
    "    dst = os.path.join(IMG_PATH, 'Test')\n",
    "    src = src_path\n",
    "    shutil.move(src, dst)"
   ]
  },
  {
   "cell_type": "code",
   "execution_count": 16,
   "metadata": {},
   "outputs": [],
   "source": [
    "def rand_num_gen(length_dir):\n",
    "    randomNum = rd.randrange(1, length_dir)\n",
    "    return randomNum"
   ]
  },
  {
   "cell_type": "code",
   "execution_count": 39,
   "metadata": {
    "scrolled": true
   },
   "outputs": [
    {
     "name": "stdout",
     "output_type": "stream",
     "text": [
      "Number of Images For Training Taken From BulletWound: 34\n",
      "File BulletWound_40.jpg Moved To Train Folder\n"
     ]
    },
    {
     "ename": "Error",
     "evalue": "Destination path 'D:\\Jeremy\\Desktop\\Tensorflow\\Trauma_ObjectDetection\\Tensorflow\\workspace\\images\\Train\\BulletWound_40.jpg' already exists",
     "output_type": "error",
     "traceback": [
      "\u001b[1;31m---------------------------------------------------------------------------\u001b[0m",
      "\u001b[1;31mError\u001b[0m                                     Traceback (most recent call last)",
      "\u001b[1;32mC:\\Users\\Jeremy\\AppData\\Local\\Temp/ipykernel_22716/2894334241.py\u001b[0m in \u001b[0;36m<module>\u001b[1;34m\u001b[0m\n\u001b[0;32m     24\u001b[0m         \u001b[0mprint\u001b[0m\u001b[1;33m(\u001b[0m\u001b[1;34m\"File {}_{}.jpg Moved To Train Folder\"\u001b[0m\u001b[1;33m.\u001b[0m\u001b[0mformat\u001b[0m\u001b[1;33m(\u001b[0m\u001b[0mlabel\u001b[0m\u001b[1;33m,\u001b[0m \u001b[0mrandList\u001b[0m\u001b[1;33m[\u001b[0m\u001b[0mx\u001b[0m\u001b[1;33m]\u001b[0m\u001b[1;33m)\u001b[0m\u001b[1;33m)\u001b[0m\u001b[1;33m\u001b[0m\u001b[1;33m\u001b[0m\u001b[0m\n\u001b[0;32m     25\u001b[0m         \u001b[1;31m#print(\"File {}_{}.xml Moved To Train Folder\".format(label, randList[x]))\u001b[0m\u001b[1;33m\u001b[0m\u001b[1;33m\u001b[0m\u001b[1;33m\u001b[0m\u001b[0m\n\u001b[1;32m---> 26\u001b[1;33m         \u001b[0mmove_file_Train\u001b[0m\u001b[1;33m(\u001b[0m\u001b[0mIMG_SELECT\u001b[0m\u001b[1;33m)\u001b[0m\u001b[1;33m\u001b[0m\u001b[1;33m\u001b[0m\u001b[0m\n\u001b[0m\u001b[0;32m     27\u001b[0m \u001b[1;33m\u001b[0m\u001b[0m\n\u001b[0;32m     28\u001b[0m \u001b[1;31m#         move_file_Train(LABELIMG_SLECT)\u001b[0m\u001b[1;33m\u001b[0m\u001b[1;33m\u001b[0m\u001b[1;33m\u001b[0m\u001b[0m\n",
      "\u001b[1;32mC:\\Users\\Jeremy\\AppData\\Local\\Temp/ipykernel_22716/1004672817.py\u001b[0m in \u001b[0;36mmove_file_Train\u001b[1;34m(src_path)\u001b[0m\n\u001b[0;32m      4\u001b[0m     \u001b[0mdst\u001b[0m \u001b[1;33m=\u001b[0m \u001b[0mos\u001b[0m\u001b[1;33m.\u001b[0m\u001b[0mpath\u001b[0m\u001b[1;33m.\u001b[0m\u001b[0mjoin\u001b[0m\u001b[1;33m(\u001b[0m\u001b[0mIMG_PATH\u001b[0m\u001b[1;33m,\u001b[0m \u001b[1;34m'Train'\u001b[0m\u001b[1;33m)\u001b[0m\u001b[1;33m\u001b[0m\u001b[1;33m\u001b[0m\u001b[0m\n\u001b[0;32m      5\u001b[0m     \u001b[0msrc\u001b[0m \u001b[1;33m=\u001b[0m \u001b[0msrc_path\u001b[0m\u001b[1;33m\u001b[0m\u001b[1;33m\u001b[0m\u001b[0m\n\u001b[1;32m----> 6\u001b[1;33m     \u001b[0mshutil\u001b[0m\u001b[1;33m.\u001b[0m\u001b[0mmove\u001b[0m\u001b[1;33m(\u001b[0m\u001b[0msrc\u001b[0m\u001b[1;33m,\u001b[0m \u001b[0mdst\u001b[0m\u001b[1;33m)\u001b[0m\u001b[1;33m\u001b[0m\u001b[1;33m\u001b[0m\u001b[0m\n\u001b[0m",
      "\u001b[1;32mC:\\ProgramData\\Anaconda3\\lib\\shutil.py\u001b[0m in \u001b[0;36mmove\u001b[1;34m(src, dst, copy_function)\u001b[0m\n\u001b[0;32m    559\u001b[0m         \u001b[0mreal_dst\u001b[0m \u001b[1;33m=\u001b[0m \u001b[0mos\u001b[0m\u001b[1;33m.\u001b[0m\u001b[0mpath\u001b[0m\u001b[1;33m.\u001b[0m\u001b[0mjoin\u001b[0m\u001b[1;33m(\u001b[0m\u001b[0mdst\u001b[0m\u001b[1;33m,\u001b[0m \u001b[0m_basename\u001b[0m\u001b[1;33m(\u001b[0m\u001b[0msrc\u001b[0m\u001b[1;33m)\u001b[0m\u001b[1;33m)\u001b[0m\u001b[1;33m\u001b[0m\u001b[1;33m\u001b[0m\u001b[0m\n\u001b[0;32m    560\u001b[0m         \u001b[1;32mif\u001b[0m \u001b[0mos\u001b[0m\u001b[1;33m.\u001b[0m\u001b[0mpath\u001b[0m\u001b[1;33m.\u001b[0m\u001b[0mexists\u001b[0m\u001b[1;33m(\u001b[0m\u001b[0mreal_dst\u001b[0m\u001b[1;33m)\u001b[0m\u001b[1;33m:\u001b[0m\u001b[1;33m\u001b[0m\u001b[1;33m\u001b[0m\u001b[0m\n\u001b[1;32m--> 561\u001b[1;33m             \u001b[1;32mraise\u001b[0m \u001b[0mError\u001b[0m\u001b[1;33m(\u001b[0m\u001b[1;34m\"Destination path '%s' already exists\"\u001b[0m \u001b[1;33m%\u001b[0m \u001b[0mreal_dst\u001b[0m\u001b[1;33m)\u001b[0m\u001b[1;33m\u001b[0m\u001b[1;33m\u001b[0m\u001b[0m\n\u001b[0m\u001b[0;32m    562\u001b[0m     \u001b[1;32mtry\u001b[0m\u001b[1;33m:\u001b[0m\u001b[1;33m\u001b[0m\u001b[1;33m\u001b[0m\u001b[0m\n\u001b[0;32m    563\u001b[0m         \u001b[0mos\u001b[0m\u001b[1;33m.\u001b[0m\u001b[0mrename\u001b[0m\u001b[1;33m(\u001b[0m\u001b[0msrc\u001b[0m\u001b[1;33m,\u001b[0m \u001b[0mreal_dst\u001b[0m\u001b[1;33m)\u001b[0m\u001b[1;33m\u001b[0m\u001b[1;33m\u001b[0m\u001b[0m\n",
      "\u001b[1;31mError\u001b[0m: Destination path 'D:\\Jeremy\\Desktop\\Tensorflow\\Trauma_ObjectDetection\\Tensorflow\\workspace\\images\\Train\\BulletWound_40.jpg' already exists"
     ]
    }
   ],
   "source": [
    "#Training Ratio Split Into Train Folder\n",
    "TRAIN_RATIO = 0.7\n",
    "randList = []\n",
    "for label in labels:\n",
    "    randList.clear()\n",
    "    DST_label_PATH = TF_PATH\n",
    "    os.chdir(DST_label_PATH)\n",
    "    DIR = os.listdir(DST_label_PATH)\n",
    "    LEN_DIR = int(len(DIR)/2)\n",
    "    NUM_IMG_SPLIT = LEN_DIR*TRAIN_RATIO\n",
    "    print(\"Number of Images For Training Taken From {}: {}\".format(label, int(NUM_IMG_SPLIT)))\n",
    "    for x in range(int(NUM_IMG_SPLIT)):\n",
    "        randNum = rand_num_gen(int(LEN_DIR))\n",
    "        if len(randList) != int(NUM_IMG_SPLIT) and randNum not in randList:\n",
    "            randList.append(randNum)\n",
    "        else:\n",
    "            while (randNum in randList):\n",
    "                randNum = rand_num_gen(int(LEN_DIR))\n",
    "            if len(randList) != int(NUM_IMG_SPLIT) and randNum not in randList:\n",
    "                randList.append(randNum)\n",
    "            \n",
    "        IMG_SELECT = os.path.join(DST_label_PATH, label + \"_\" + str(randList[x]) + \".jpg\")\n",
    "        LABELIMG_SLECT = os.path.join(DST_label_PATH, label + \"_\" + str(randList[x]) + \".xml\")\n",
    "        #print(\"File {}_{}.jpg Moved To Train Folder\".format(label, randList[x]))\n",
    "        #print(\"File {}_{}.xml Moved To Train Folder\".format(label, randList[x]))\n",
    "        move_file_Train(IMG_SELECT)\n",
    "        move_file_Train(LABELIMG_SLECT)\n",
    "        \n",
    "print(\"Files Successfully Moved To Train Folder....\")"
   ]
  },
  {
   "cell_type": "code",
   "execution_count": 43,
   "metadata": {},
   "outputs": [
    {
     "name": "stdout",
     "output_type": "stream",
     "text": [
      "Files Successfully Moved To Test Folder....\n"
     ]
    }
   ],
   "source": [
    "#Remainder Images Moved Into Test Folder\n",
    "\n",
    "for label in labels:\n",
    "    DST_label_PATH = TF_PATH\n",
    "    os.chdir(DST_label_PATH)\n",
    "    DIR = os.listdir(DST_label_PATH)\n",
    "    for file_name in DIR:\n",
    "        file = os.path.join(DST_label_PATH, file_name)\n",
    "        move_file_Test(file)\n",
    "        #print(\"File {} Moved To Test Folder\".format(file_name))\n",
    "        \n",
    "print(\"Files Successfully Moved To Test Folder....\")"
   ]
  },
  {
   "cell_type": "markdown",
   "metadata": {},
   "source": [
    "# Continue To 3. Training & Testing Notebook"
   ]
  }
 ],
 "metadata": {
  "kernelspec": {
   "display_name": "tfod",
   "language": "python",
   "name": "tfod"
  },
  "language_info": {
   "codemirror_mode": {
    "name": "ipython",
    "version": 3
   },
   "file_extension": ".py",
   "mimetype": "text/x-python",
   "name": "python",
   "nbconvert_exporter": "python",
   "pygments_lexer": "ipython3",
   "version": "3.7.3"
  }
 },
 "nbformat": 4,
 "nbformat_minor": 2
}
