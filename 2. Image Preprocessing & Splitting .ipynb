{
 "cells": [
  {
   "cell_type": "markdown",
   "metadata": {},
   "source": [
    "# 1. Import Dependencies"
   ]
  },
  {
   "cell_type": "code",
   "execution_count": null,
   "metadata": {},
   "outputs": [],
   "source": [
    "!pip install opencv-python"
   ]
  },
  {
   "cell_type": "code",
   "execution_count": null,
   "metadata": {},
   "outputs": [],
   "source": [
    "# Import opencv\n",
    "import cv2\n",
    "\n",
    "# Import uuid\n",
    "import uuid\n",
    "\n",
    "# Import Operating System\n",
    "import os\n",
    "\n",
    "# Import time\n",
    "import time\n",
    "\n",
    "#Import Numpy\n",
    "import numpy as np\n",
    "\n",
    "import shutil\n",
    "\n",
    "import random as rd"
   ]
  },
  {
   "cell_type": "markdown",
   "metadata": {},
   "source": [
    "# 2. Define Images to Collect"
   ]
  },
  {
   "cell_type": "code",
   "execution_count": null,
   "metadata": {},
   "outputs": [],
   "source": [
    "#Specify Labeles Which will be used for the classes\n",
    "labels = ['CircularWound', 'AbrasionWound']"
   ]
  },
  {
   "cell_type": "markdown",
   "metadata": {},
   "source": [
    "# 3. Setup Folders "
   ]
  },
  {
   "cell_type": "code",
   "execution_count": null,
   "metadata": {},
   "outputs": [],
   "source": [
    "#PATHS\n",
    "FOLDER_PATH = os.getcwd()\n",
    "TF_PATH = os.path.join(FOLDER_PATH,'Tensorflow','workspace','images', 'collectedimages')\n",
    "IMG_PATH = os.path.join(FOLDER_PATH, 'Tensorflow','workspace','images')\n",
    "\n",
    "DOWNLOAD_IMG_PATH = os.path.join(FOLDER_PATH, 'Images')\n",
    "\n",
    "folders = [\"Train\", \"Test\"]"
   ]
  },
  {
   "cell_type": "code",
   "execution_count": null,
   "metadata": {},
   "outputs": [],
   "source": [
    "LABEL_PATHS = []\n",
    "for label in labels:\n",
    "    label_path = os.path.join(DOWNLOAD_IMG_PATH, label)\n",
    "    LABEL_PATHS.append(label_path)"
   ]
  },
  {
   "cell_type": "code",
   "execution_count": null,
   "metadata": {},
   "outputs": [],
   "source": [
    "LABEL_PATHS"
   ]
  },
  {
   "cell_type": "code",
   "execution_count": null,
   "metadata": {},
   "outputs": [],
   "source": [
    "print(FOLDER_PATH)"
   ]
  },
  {
   "cell_type": "code",
   "execution_count": null,
   "metadata": {},
   "outputs": [],
   "source": [
    "#Create Folders for Each Label\n",
    "if not os.path.exists(TF_PATH):\n",
    "    if os.name == 'posix':\n",
    "        !mkdir -p {TF_PATH}\n",
    "    if os.name == 'nt':\n",
    "        !mkdir {TF_PATH}\n",
    "\n",
    "#Create Train & Test Folders\n",
    "os.chdir(IMG_PATH)\n",
    "for folder in folders:\n",
    "    path = os.path.join(IMG_PATH, folder)\n",
    "    if not os.path.exists(path):\n",
    "        !mkdir {path}\n",
    "        print(\"Folder Created For {}....\".format(folder))\n",
    "    else:\n",
    "        print(\"Folder Already Created For {}....\".format(folder))"
   ]
  },
  {
   "cell_type": "markdown",
   "metadata": {},
   "source": [
    "# 4. Copy Images From Other Folder"
   ]
  },
  {
   "cell_type": "code",
   "execution_count": null,
   "metadata": {},
   "outputs": [],
   "source": [
    "for label in labels:\n",
    "    src = os.path.join(DOWNLOAD_IMG_PATH, label)\n",
    "    dest = TF_PATH\n",
    "    os.chdir(src)\n",
    "    files = os.listdir(src)\n",
    "    for file in files:\n",
    "        shutil.copy(file, dest)\n",
    "    print(f\"{label} Files Copied To Destination Folder....\")"
   ]
  },
  {
   "cell_type": "markdown",
   "metadata": {},
   "source": [
    "# 5. Renaming Images (Redundant Post ImgAugment.py Script)"
   ]
  },
  {
   "cell_type": "code",
   "execution_count": null,
   "metadata": {},
   "outputs": [],
   "source": [
    "# #Rename Images to <label>.num.jpg\n",
    "# for label in labels:\n",
    "#     img_folder = os.path.join(DOWNLOAD_IMG_PATH, label) \n",
    "#     num_imgs = len(os.listdir(img_folder))\n",
    "#     #print(num_imgs)\n",
    "#     DST_label_PATH = TF_PATH\n",
    "#     os.chdir(DST_label_PATH)\n",
    "#     DIR = os.listdir(DST_label_PATH)\n",
    "#     for num, file_name in enumerate(DIR):\n",
    "#         if num != num_imgs:\n",
    "#             src = DST_label_PATH + '\\\\' + file_name\n",
    "#             dst = DST_label_PATH + '\\\\' + label + \"_\" + str(num+1) + \".jpg\"\n",
    "#             os.rename(src, dst)\n",
    "#         else:\n",
    "#             break\n",
    "# print(\"Images Successfully Renamed...\")       "
   ]
  },
  {
   "cell_type": "markdown",
   "metadata": {},
   "source": [
    "# 5. Import Image Labelling "
   ]
  },
  {
   "cell_type": "code",
   "execution_count": null,
   "metadata": {
    "scrolled": true
   },
   "outputs": [],
   "source": [
    "!pip install --upgrade pyqt5 lxml"
   ]
  },
  {
   "cell_type": "code",
   "execution_count": null,
   "metadata": {},
   "outputs": [],
   "source": [
    "LABEL_IMG_PATH = os.path.join(FOLDER_PATH,'Tensorflow','labelImg')"
   ]
  },
  {
   "cell_type": "code",
   "execution_count": null,
   "metadata": {},
   "outputs": [],
   "source": [
    "#Create a Folder For ImgLabel app \n",
    "if not os.path.exists(LABEL_IMG_PATH):\n",
    "    !mkdir {LABEL_IMG_PATH}\n",
    "    !git clone https://github.com/tzutalin/labelImg {LABEL_IMG_PATH}\n",
    "    print(\"Folder Created and Repo Copied...\")\n",
    "else:\n",
    "    print(\"Folder Already Created and Repo Copied....\")"
   ]
  },
  {
   "cell_type": "code",
   "execution_count": null,
   "metadata": {},
   "outputs": [],
   "source": [
    "if os.name == 'posix':\n",
    "    !cd {LABEL_IMG_PATH} && make qt5py3\n",
    "if os.name =='nt':\n",
    "    !cd {LABEL_IMG_PATH} && pyrcc5 -o libs/resources.py resources.qrc"
   ]
  },
  {
   "cell_type": "markdown",
   "metadata": {},
   "source": [
    "# 7. Open Label Image Probram & Label Images"
   ]
  },
  {
   "cell_type": "code",
   "execution_count": null,
   "metadata": {},
   "outputs": [],
   "source": [
    "#Open Label Image Program\n",
    "!cd {LABEL_IMG_PATH} && python labelImg.py"
   ]
  },
  {
   "cell_type": "markdown",
   "metadata": {},
   "source": [
    "# 8. Splitting Images Into Training & Testing"
   ]
  },
  {
   "cell_type": "code",
   "execution_count": null,
   "metadata": {},
   "outputs": [],
   "source": [
    "#Make a function to move files to Train folder\n",
    "\n",
    "def move_file_Train(src_path):\n",
    "    dst = os.path.join(IMG_PATH, 'Train')\n",
    "    src = src_path\n",
    "    shutil.move(src, dst)"
   ]
  },
  {
   "cell_type": "code",
   "execution_count": null,
   "metadata": {},
   "outputs": [],
   "source": [
    "#Make a function to move files to Test folder\n",
    "\n",
    "def move_file_Test(src_path):\n",
    "    dst = os.path.join(IMG_PATH, 'Test')\n",
    "    src = src_path\n",
    "    shutil.move(src, dst)"
   ]
  },
  {
   "cell_type": "code",
   "execution_count": null,
   "metadata": {},
   "outputs": [],
   "source": [
    "def rand_num_gen(length_dir, split_size):\n",
    "    randList = []\n",
    "    x = 0\n",
    "    while x != length_dir and len(randList) != split_size:\n",
    "        randomNum = rd.randrange(1, length_dir)\n",
    "        if randomNum not in randList:\n",
    "            randList.append(randomNum)\n",
    "            x = x + 1\n",
    "    return randList"
   ]
  },
  {
   "cell_type": "code",
   "execution_count": null,
   "metadata": {},
   "outputs": [],
   "source": [
    "# This will specify the parameters to put into the rand_num_gen() function for each label\n",
    "\n",
    "DIR_SIZE = []\n",
    "IMG_SPLIT = []\n",
    "\n",
    "for path in LABEL_PATHS:\n",
    "    DIR_SIZE.append(len(os.listdir(path)))\n",
    "\n",
    "for i in DIR_SIZE:\n",
    "    IMG_SPLIT.append(int(i * 0.7))\n",
    "\n",
    "print(DIR_SIZE)\n",
    "print(IMG_SPLIT)"
   ]
  },
  {
   "cell_type": "code",
   "execution_count": null,
   "metadata": {},
   "outputs": [],
   "source": [
    "# Make same number of randList as Labels and use the values printed from above for the parameters\n",
    "randomList_1 = rand_num_gen(138, 96)\n",
    "randomList_2 = rand_num_gen(96, 67)\n",
    "# randomList_3 = []"
   ]
  },
  {
   "cell_type": "code",
   "execution_count": null,
   "metadata": {
    "scrolled": true
   },
   "outputs": [],
   "source": [
    "# randomList_1 = rand_num_gen(138, 96)\n",
    "# randomList_1.sort()\n",
    "# print(f'len: {len(randomList_1)}')\n",
    "# print(randomList_1)"
   ]
  },
  {
   "cell_type": "code",
   "execution_count": null,
   "metadata": {},
   "outputs": [],
   "source": [
    "# randomList_2 = rand_num_gen(96, 67)\n",
    "# randomList_2.sort()\n",
    "# print(f'len: {len(randomList_2)}')\n",
    "# print(randomList_2)"
   ]
  },
  {
   "cell_type": "code",
   "execution_count": 176,
   "metadata": {
    "scrolled": true
   },
   "outputs": [
    {
     "name": "stdout",
     "output_type": "stream",
     "text": [
      "\n",
      "Files Successfully Moved To Train Folder....\n"
     ]
    }
   ],
   "source": [
    "# Copy and paste for the number of classes\n",
    "for label in labels:\n",
    "    if label == 'CircularWound':\n",
    "        for x in randomList_1:\n",
    "            IMG_SELECT = os.path.join(TF_PATH, label + \"_\" + str(x) + \".jpg\")\n",
    "            LABELIMG_SLECT = os.path.join(TF_PATH, label + \"_\" + str(x) + \".xml\")\n",
    "#             print(\"File {}_{}.jpg Moved To Train Folder\".format(label, x))\n",
    "#             print(\"File {}_{}.xml Moved To Train Folder\".format(label, x))\n",
    "            move_file_Train(IMG_SELECT)\n",
    "            move_file_Train(LABELIMG_SLECT)\n",
    "    elif label == 'AbrasionWound':\n",
    "        for x in randomList_2:\n",
    "            IMG_SELECT = os.path.join(TF_PATH, label + \"_\" + str(x) + \".jpg\")\n",
    "            LABELIMG_SLECT = os.path.join(TF_PATH, label + \"_\" + str(x) + \".xml\")\n",
    "#             print(\"File {}_{}.jpg Moved To Train Folder\".format(label, x))\n",
    "#             print(\"File {}_{}.xml Moved To Train Folder\".format(label, x))\n",
    "            move_file_Train(IMG_SELECT)\n",
    "            move_file_Train(LABELIMG_SLECT)\n",
    "        \n",
    "print(\"\\nFiles Successfully Moved To Train Folder....\")"
   ]
  },
  {
   "cell_type": "code",
   "execution_count": 177,
   "metadata": {},
   "outputs": [
    {
     "name": "stdout",
     "output_type": "stream",
     "text": [
      "Files Successfully Moved To Test Folder....\n"
     ]
    }
   ],
   "source": [
    "#Remainder Images Moved Into Test Folder\n",
    "\n",
    "for label in labels:\n",
    "    DST_label_PATH = TF_PATH\n",
    "    os.chdir(DST_label_PATH)\n",
    "    DIR = os.listdir(DST_label_PATH)\n",
    "    for file_name in DIR:\n",
    "        file = os.path.join(DST_label_PATH, file_name)\n",
    "        move_file_Test(file)\n",
    "        #print(\"File {} Moved To Test Folder\".format(file_name))\n",
    "        \n",
    "print(\"Files Successfully Moved To Test Folder....\")"
   ]
  },
  {
   "cell_type": "markdown",
   "metadata": {},
   "source": [
    "# Continue To 3. Training & Testing Notebook"
   ]
  }
 ],
 "metadata": {
  "kernelspec": {
   "display_name": "tfod",
   "language": "python",
   "name": "tfod"
  },
  "language_info": {
   "codemirror_mode": {
    "name": "ipython",
    "version": 3
   },
   "file_extension": ".py",
   "mimetype": "text/x-python",
   "name": "python",
   "nbconvert_exporter": "python",
   "pygments_lexer": "ipython3",
   "version": "3.7.3"
  }
 },
 "nbformat": 4,
 "nbformat_minor": 2
}
