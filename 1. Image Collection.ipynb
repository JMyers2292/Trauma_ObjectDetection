{
 "cells": [
  {
   "cell_type": "markdown",
   "metadata": {},
   "source": [
    "# 1. Import Dependencies"
   ]
  },
  {
   "cell_type": "code",
   "execution_count": 1,
   "metadata": {},
   "outputs": [
    {
     "name": "stdout",
     "output_type": "stream",
     "text": [
      "Collecting opencv-python\n",
      "  Downloading opencv_python-4.5.2.54-cp37-cp37m-win_amd64.whl (34.7 MB)\n",
      "Collecting numpy>=1.14.5\n",
      "  Downloading numpy-1.21.0-cp37-cp37m-win_amd64.whl (13.9 MB)\n",
      "Installing collected packages: numpy, opencv-python\n",
      "Successfully installed numpy-1.21.0 opencv-python-4.5.2.54\n"
     ]
    }
   ],
   "source": [
    "!pip install opencv-python"
   ]
  },
  {
   "cell_type": "code",
   "execution_count": 2,
   "metadata": {},
   "outputs": [],
   "source": [
    "# Import opencv\n",
    "import cv2 \n",
    "\n",
    "# Import uuid, unique identifyer (name images uniquley)\n",
    "import uuid\n",
    "\n",
    "# Import Operating System, great for file paths\n",
    "import os\n",
    "\n",
    "# Import time\n",
    "import time"
   ]
  },
  {
   "cell_type": "markdown",
   "metadata": {},
   "source": [
    "# 2. Define Images to Collect"
   ]
  },
  {
   "cell_type": "code",
   "execution_count": 17,
   "metadata": {},
   "outputs": [],
   "source": [
    "labels = ['thumbsup', 'thumbsdown', 'fu', 'shaka']\n",
    "number_imgs = 5"
   ]
  },
  {
   "cell_type": "markdown",
   "metadata": {},
   "source": [
    "# 3. Setup Folders "
   ]
  },
  {
   "cell_type": "code",
   "execution_count": 18,
   "metadata": {},
   "outputs": [],
   "source": [
    "IMAGES_PATH = os.path.join('TF', 'workspace', 'images', 'collectedimages')"
   ]
  },
  {
   "cell_type": "code",
   "execution_count": 11,
   "metadata": {},
   "outputs": [
    {
     "data": {
      "text/plain": [
       "'TF\\\\workspace\\\\images\\\\collectedimages'"
      ]
     },
     "execution_count": 11,
     "metadata": {},
     "output_type": "execute_result"
    }
   ],
   "source": [
    "IMAGES_PATH"
   ]
  },
  {
   "cell_type": "code",
   "execution_count": 19,
   "metadata": {},
   "outputs": [],
   "source": [
    "if not os.path.exists(IMAGES_PATH):\n",
    "    if os.name == 'posix':\n",
    "        !mkdir -p {IMAGES_PATH}\n",
    "    if os.name == 'nt':\n",
    "         !mkdir {IMAGES_PATH}\n",
    "for label in labels:\n",
    "    path = os.path.join(IMAGES_PATH, label)\n",
    "    if not os.path.exists(path):\n",
    "        !mkdir {path}"
   ]
  },
  {
   "cell_type": "markdown",
   "metadata": {},
   "source": [
    "# 4. Capture Images"
   ]
  },
  {
   "cell_type": "code",
   "execution_count": 20,
   "metadata": {},
   "outputs": [
    {
     "name": "stdout",
     "output_type": "stream",
     "text": [
      "Collecting images for thumbsup\n",
      "Collecting image 0\n",
      "Collecting image 1\n",
      "Collecting image 2\n",
      "Collecting image 3\n",
      "Collecting image 4\n",
      "Collecting images for thumbsdown\n",
      "Collecting image 0\n",
      "Collecting image 1\n",
      "Collecting image 2\n",
      "Collecting image 3\n",
      "Collecting image 4\n",
      "Collecting images for fu\n",
      "Collecting image 0\n",
      "Collecting image 1\n",
      "Collecting image 2\n",
      "Collecting image 3\n",
      "Collecting image 4\n",
      "Collecting images for shaka\n",
      "Collecting image 0\n",
      "Collecting image 1\n",
      "Collecting image 2\n",
      "Collecting image 3\n",
      "Collecting image 4\n"
     ]
    }
   ],
   "source": [
    "for label in labels:\n",
    "    cap = cv2.VideoCapture(0) #Connects to webcam or capture device\n",
    "    print('Collecting images for {}'.format(label))\n",
    "    time.sleep(5)\n",
    "    for imgnum in range(number_imgs):\n",
    "        print('Collecting image {}'.format(imgnum))\n",
    "        ret, frame = cap.read()\n",
    "        imgname = os.path.join(IMAGES_PATH,label,label+'.'+'{}.jpg'.format(str(uuid.uuid1())))\n",
    "        cv2.imwrite(imgname, frame)\n",
    "        cv2.imshow('frame', frame)\n",
    "        time.sleep(2)\n",
    "\n",
    "        if cv2.waitKey(1) & 0xFF == ord('q'):\n",
    "            break\n",
    "cap.release()\n",
    "cv2.destroyAllWindows()"
   ]
  },
  {
   "cell_type": "markdown",
   "metadata": {},
   "source": [
    "# 5. Image Labelling"
   ]
  },
  {
   "cell_type": "code",
   "execution_count": 22,
   "metadata": {},
   "outputs": [
    {
     "name": "stdout",
     "output_type": "stream",
     "text": [
      "Requirement already satisfied: pyqt5 in c:\\users\\jeremy\\desktop\\tensorflow\\model training\\tfodcourse\\tfod\\lib\\site-packages (5.15.4)\n",
      "Requirement already satisfied: lxml in c:\\users\\jeremy\\desktop\\tensorflow\\model training\\tfodcourse\\tfod\\lib\\site-packages (4.6.3)\n",
      "Requirement already satisfied: PyQt5-sip<13,>=12.8 in c:\\users\\jeremy\\desktop\\tensorflow\\model training\\tfodcourse\\tfod\\lib\\site-packages (from pyqt5) (12.9.0)\n",
      "Requirement already satisfied: PyQt5-Qt5>=5.15 in c:\\users\\jeremy\\desktop\\tensorflow\\model training\\tfodcourse\\tfod\\lib\\site-packages (from pyqt5) (5.15.2)\n"
     ]
    }
   ],
   "source": [
    "!pip install --upgrade pyqt5 lxml"
   ]
  },
  {
   "cell_type": "code",
   "execution_count": 24,
   "metadata": {},
   "outputs": [
    {
     "name": "stdout",
     "output_type": "stream",
     "text": [
      "Package           Version\n",
      "----------------- --------\n",
      "backcall          0.2.0\n",
      "colorama          0.4.4\n",
      "decorator         5.0.9\n",
      "ipykernel         5.5.5\n",
      "ipython           7.24.1\n",
      "ipython-genutils  0.2.0\n",
      "jedi              0.18.0\n",
      "jupyter-client    6.1.12\n",
      "jupyter-core      4.7.1\n",
      "lxml              4.6.3\n",
      "matplotlib-inline 0.1.2\n",
      "numpy             1.21.0\n",
      "opencv-python     4.5.2.54\n",
      "parso             0.8.2\n",
      "pickleshare       0.7.5\n",
      "pip               21.1.2\n",
      "prompt-toolkit    3.0.19\n",
      "Pygments          2.9.0\n",
      "PyQt5             5.15.4\n",
      "PyQt5-Qt5         5.15.2\n",
      "PyQt5-sip         12.9.0\n",
      "python-dateutil   2.8.1\n",
      "pywin32           301\n",
      "pyzmq             22.1.0\n",
      "setuptools        40.8.0\n",
      "six               1.16.0\n",
      "tornado           6.1\n",
      "traitlets         5.0.5\n",
      "wcwidth           0.2.5\n"
     ]
    }
   ],
   "source": [
    "!pip list"
   ]
  },
  {
   "cell_type": "code",
   "execution_count": 25,
   "metadata": {},
   "outputs": [],
   "source": [
    "LABELIMG_PATH = os.path.join('TF', 'labelimg')"
   ]
  },
  {
   "cell_type": "code",
   "execution_count": 26,
   "metadata": {},
   "outputs": [
    {
     "name": "stderr",
     "output_type": "stream",
     "text": [
      "Cloning into 'TF\\labelimg'...\n"
     ]
    }
   ],
   "source": [
    "if not os.path.exists(LABELIMG_PATH):\n",
    "    !mkdir {LABELIMG_PATH}\n",
    "    !git clone https://github.com/tzutalin/labelImg {LABELIMG_PATH}"
   ]
  },
  {
   "cell_type": "code",
   "execution_count": 27,
   "metadata": {},
   "outputs": [],
   "source": [
    "if os.name == 'posix':\n",
    "    !make qt5py3\n",
    "if os.name =='nt':\n",
    "    !cd {LABELIMG_PATH} && pyrcc5 -o libs/resources.py resources.qrc"
   ]
  },
  {
   "cell_type": "code",
   "execution_count": 28,
   "metadata": {},
   "outputs": [
    {
     "name": "stdout",
     "output_type": "stream",
     "text": [
      "Image:C:\\Users\\Jeremy\\Desktop\\TensorFlow\\Model Training\\TFODCourse\\TF\\workspace\\images\\collectedimages\\fu\\fu.6a23befa-d4a9-11eb-85a4-fdd87725c632.jpg -> Annotation:C:/Users/Jeremy/Desktop/TensorFlow/Model Training/TFODCourse/TF/workspace/images/collectedimages/fu/fu.6a23befa-d4a9-11eb-85a4-fdd87725c632.xml\n",
      "Image:C:\\Users\\Jeremy\\Desktop\\TensorFlow\\Model Training\\TFODCourse\\TF\\workspace\\images\\collectedimages\\fu\\fu.6b62b71a-d4a9-11eb-a541-fdd87725c632.jpg -> Annotation:C:/Users/Jeremy/Desktop/TensorFlow/Model Training/TFODCourse/TF/workspace/images/collectedimages/fu/fu.6b62b71a-d4a9-11eb-a541-fdd87725c632.xml\n",
      "Image:C:\\Users\\Jeremy\\Desktop\\TensorFlow\\Model Training\\TFODCourse\\TF\\workspace\\images\\collectedimages\\fu\\fu.6c9865d2-d4a9-11eb-8603-fdd87725c632.jpg -> Annotation:C:/Users/Jeremy/Desktop/TensorFlow/Model Training/TFODCourse/TF/workspace/images/collectedimages/fu/fu.6c9865d2-d4a9-11eb-8603-fdd87725c632.xml\n",
      "Image:C:\\Users\\Jeremy\\Desktop\\TensorFlow\\Model Training\\TFODCourse\\TF\\workspace\\images\\collectedimages\\fu\\fu.6dd13c5c-d4a9-11eb-9f4e-fdd87725c632.jpg -> Annotation:C:/Users/Jeremy/Desktop/TensorFlow/Model Training/TFODCourse/TF/workspace/images/collectedimages/fu/fu.6dd13c5c-d4a9-11eb-9f4e-fdd87725c632.xml\n",
      "Image:C:\\Users\\Jeremy\\Desktop\\TensorFlow\\Model Training\\TFODCourse\\TF\\workspace\\images\\collectedimages\\fu\\fu.6f09a5dc-d4a9-11eb-82ad-fdd87725c632.jpg -> Annotation:C:/Users/Jeremy/Desktop/TensorFlow/Model Training/TFODCourse/TF/workspace/images/collectedimages/fu/fu.6f09a5dc-d4a9-11eb-82ad-fdd87725c632.xml\n",
      "Image:C:\\Users\\Jeremy\\Desktop\\TensorFlow\\Model Training\\TFODCourse\\TF\\workspace\\images\\collectedimages\\shaka\\shaka.74cd8f9e-d4a9-11eb-bf2d-fdd87725c632.jpg -> Annotation:C:/Users/Jeremy/Desktop/TensorFlow/Model Training/TFODCourse/TF/workspace/images/collectedimages/shaka/shaka.74cd8f9e-d4a9-11eb-bf2d-fdd87725c632.xml\n",
      "Image:C:\\Users\\Jeremy\\Desktop\\TensorFlow\\Model Training\\TFODCourse\\TF\\workspace\\images\\collectedimages\\shaka\\shaka.738ef2c2-d4a9-11eb-aa02-fdd87725c632.jpg -> Annotation:C:/Users/Jeremy/Desktop/TensorFlow/Model Training/TFODCourse/TF/workspace/images/collectedimages/shaka/shaka.738ef2c2-d4a9-11eb-aa02-fdd87725c632.xml\n",
      "Cancel creation.\n",
      "Image:C:\\Users\\Jeremy\\Desktop\\TensorFlow\\Model Training\\TFODCourse\\TF\\workspace\\images\\collectedimages\\shaka\\shaka.773d7eb4-d4a9-11eb-a64d-fdd87725c632.jpg -> Annotation:C:/Users/Jeremy/Desktop/TensorFlow/Model Training/TFODCourse/TF/workspace/images/collectedimages/shaka/shaka.773d7eb4-d4a9-11eb-a64d-fdd87725c632.xml\n",
      "Image:C:\\Users\\Jeremy\\Desktop\\TensorFlow\\Model Training\\TFODCourse\\TF\\workspace\\images\\collectedimages\\shaka\\shaka.7603c5cc-d4a9-11eb-b0a5-fdd87725c632.jpg -> Annotation:C:/Users/Jeremy/Desktop/TensorFlow/Model Training/TFODCourse/TF/workspace/images/collectedimages/shaka/shaka.7603c5cc-d4a9-11eb-b0a5-fdd87725c632.xml\n",
      "Cancel creation.\n",
      "Image:C:\\Users\\Jeremy\\Desktop\\TensorFlow\\Model Training\\TFODCourse\\TF\\workspace\\images\\collectedimages\\shaka\\shaka.78764940-d4a9-11eb-b4dd-fdd87725c632.jpg -> Annotation:C:/Users/Jeremy/Desktop/TensorFlow/Model Training/TFODCourse/TF/workspace/images/collectedimages/shaka/shaka.78764940-d4a9-11eb-b4dd-fdd87725c632.xml\n",
      "Image:C:\\Users\\Jeremy\\Desktop\\TensorFlow\\Model Training\\TFODCourse\\TF\\workspace\\images\\collectedimages\\thumbsdown\\thumbsdown.60b56892-d4a9-11eb-8bd8-fdd87725c632.jpg -> Annotation:C:/Users/Jeremy/Desktop/TensorFlow/Model Training/TFODCourse/TF/workspace/images/collectedimages/thumbsdown/thumbsdown.60b56892-d4a9-11eb-8bd8-fdd87725c632.xml\n",
      "Image:C:\\Users\\Jeremy\\Desktop\\TensorFlow\\Model Training\\TFODCourse\\TF\\workspace\\images\\collectedimages\\thumbsdown\\thumbsdown.61f58042-d4a9-11eb-a87a-fdd87725c632.jpg -> Annotation:C:/Users/Jeremy/Desktop/TensorFlow/Model Training/TFODCourse/TF/workspace/images/collectedimages/thumbsdown/thumbsdown.61f58042-d4a9-11eb-a87a-fdd87725c632.xml\n",
      "Image:C:\\Users\\Jeremy\\Desktop\\TensorFlow\\Model Training\\TFODCourse\\TF\\workspace\\images\\collectedimages\\thumbsdown\\thumbsdown.632b3446-d4a9-11eb-9516-fdd87725c632.jpg -> Annotation:C:/Users/Jeremy/Desktop/TensorFlow/Model Training/TFODCourse/TF/workspace/images/collectedimages/thumbsdown/thumbsdown.632b3446-d4a9-11eb-9516-fdd87725c632.xml\n",
      "Image:C:\\Users\\Jeremy\\Desktop\\TensorFlow\\Model Training\\TFODCourse\\TF\\workspace\\images\\collectedimages\\thumbsdown\\thumbsdown.659d22a8-d4a9-11eb-876e-fdd87725c632.jpg -> Annotation:C:/Users/Jeremy/Desktop/TensorFlow/Model Training/TFODCourse/TF/workspace/images/collectedimages/thumbsdown/thumbsdown.659d22a8-d4a9-11eb-876e-fdd87725c632.xml\n",
      "Image:C:\\Users\\Jeremy\\Desktop\\TensorFlow\\Model Training\\TFODCourse\\TF\\workspace\\images\\collectedimages\\thumbsdown\\thumbsdown.64632336-d4a9-11eb-a721-fdd87725c632.jpg -> Annotation:C:/Users/Jeremy/Desktop/TensorFlow/Model Training/TFODCourse/TF/workspace/images/collectedimages/thumbsdown/thumbsdown.64632336-d4a9-11eb-a721-fdd87725c632.xml\n",
      "Image:C:\\Users\\Jeremy\\Desktop\\TensorFlow\\Model Training\\TFODCourse\\TF\\workspace\\images\\collectedimages\\thumbsup\\thumbsup.5afc05de-d4a9-11eb-8114-fdd87725c632.jpg -> Annotation:C:/Users/Jeremy/Desktop/TensorFlow/Model Training/TFODCourse/TF/workspace/images/collectedimages/thumbsup/thumbsup.5afc05de-d4a9-11eb-8114-fdd87725c632.xml\n",
      "Image:C:\\Users\\Jeremy\\Desktop\\TensorFlow\\Model Training\\TFODCourse\\TF\\workspace\\images\\collectedimages\\thumbsup\\thumbsup.5c356fb4-d4a9-11eb-8ba6-fdd87725c632.jpg -> Annotation:C:/Users/Jeremy/Desktop/TensorFlow/Model Training/TFODCourse/TF/workspace/images/collectedimages/thumbsup/thumbsup.5c356fb4-d4a9-11eb-8ba6-fdd87725c632.xml\n",
      "Image:C:\\Users\\Jeremy\\Desktop\\TensorFlow\\Model Training\\TFODCourse\\TF\\workspace\\images\\collectedimages\\thumbsup\\thumbsup.59c0fa4c-d4a9-11eb-bbc2-fdd87725c632.jpg -> Annotation:C:/Users/Jeremy/Desktop/TensorFlow/Model Training/TFODCourse/TF/workspace/images/collectedimages/thumbsup/thumbsup.59c0fa4c-d4a9-11eb-bbc2-fdd87725c632.xml\n",
      "Image:C:\\Users\\Jeremy\\Desktop\\TensorFlow\\Model Training\\TFODCourse\\TF\\workspace\\images\\collectedimages\\thumbsup\\thumbsup.573a52d2-d4a9-11eb-9dc0-fdd87725c632.jpg -> Annotation:C:/Users/Jeremy/Desktop/TensorFlow/Model Training/TFODCourse/TF/workspace/images/collectedimages/thumbsup/thumbsup.573a52d2-d4a9-11eb-9dc0-fdd87725c632.xml\n",
      "Image:C:\\Users\\Jeremy\\Desktop\\TensorFlow\\Model Training\\TFODCourse\\TF\\workspace\\images\\collectedimages\\thumbsup\\thumbsup.58851088-d4a9-11eb-8ca6-fdd87725c632.jpg -> Annotation:C:/Users/Jeremy/Desktop/TensorFlow/Model Training/TFODCourse/TF/workspace/images/collectedimages/thumbsup/thumbsup.58851088-d4a9-11eb-8ca6-fdd87725c632.xml\n"
     ]
    }
   ],
   "source": [
    "!cd {LABELIMG_PATH} && python labelImg.py"
   ]
  },
  {
   "cell_type": "markdown",
   "metadata": {},
   "source": [
    "# 6. Move them into a Training and Testing Partition"
   ]
  },
  {
   "cell_type": "markdown",
   "metadata": {},
   "source": [
    "# OPTIONAL - 7. Compress them for Colab Training"
   ]
  },
  {
   "cell_type": "code",
   "execution_count": 20,
   "metadata": {},
   "outputs": [],
   "source": [
    "TRAIN_PATH = os.path.join('Tensorflow', 'workspace', 'images', 'train')\n",
    "TEST_PATH = os.path.join('Tensorflow', 'workspace', 'images', 'test')\n",
    "ARCHIVE_PATH = os.path.join('Tensorflow', 'workspace', 'images', 'archive.tar.gz')"
   ]
  },
  {
   "cell_type": "code",
   "execution_count": 21,
   "metadata": {},
   "outputs": [],
   "source": [
    "!tar -czf {ARCHIVE_PATH} {TRAIN_PATH} {TEST_PATH}"
   ]
  },
  {
   "cell_type": "code",
   "execution_count": null,
   "metadata": {},
   "outputs": [],
   "source": []
  }
 ],
 "metadata": {
  "kernelspec": {
   "display_name": "tfod",
   "language": "python",
   "name": "tfod"
  },
  "language_info": {
   "codemirror_mode": {
    "name": "ipython",
    "version": 3
   },
   "file_extension": ".py",
   "mimetype": "text/x-python",
   "name": "python",
   "nbconvert_exporter": "python",
   "pygments_lexer": "ipython3",
   "version": "3.7.3"
  }
 },
 "nbformat": 4,
 "nbformat_minor": 2
}
